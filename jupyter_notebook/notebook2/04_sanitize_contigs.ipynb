{
 "cells": [
  {
   "cell_type": "code",
   "execution_count": null,
   "id": "ba5cf6f8-2b74-4a41-9498-5c561423189d",
   "metadata": {},
   "outputs": [],
   "source": [
    "from Bio import SeqIO\n",
    "from pathlib import Path\n",
    "import json\n",
    "\n",
    "def sanitize_chen_et_al(input_file, output_dir):\n",
    "    \"\"\"\n",
    "    Shorten contig name\n",
    "    \"\"\"\n",
    "    original_file = Path(input_file)\n",
    "    corrected_file = Path(output_dir) / f\"{original_file.stem}.fna\"\n",
    "    \n",
    "    log_dict = {}\n",
    "\n",
    "    with open(original_file) as original, open(corrected_file, 'w') as corrected:\n",
    "        records = SeqIO.parse(original_file, 'fasta')\n",
    "        ctr = 1\n",
    "        for record in records:       \n",
    "            old_id = record.id\n",
    "            new_id = f\"{original_file.stem}_{ctr}\"\n",
    "            record.id = new_id\n",
    "            ctr = ctr + 1\n",
    "            SeqIO.write(record, corrected, 'fasta')\n",
    "            \n",
    "            log_dict[old_id] = new_id\n",
    "    \n",
    "    with open(Path(output_dir) / f\"{original_file.stem}.json\", \"w\") as out_file:\n",
    "        json.dump(log_dict, out_file, indent = 4)\n",
    "    return"
   ]
  },
  {
   "cell_type": "markdown",
   "id": "7d883415-5504-4dcb-ab5e-d151e997f1d3",
   "metadata": {},
   "source": [
    "Apparently, the contig names from Sharrar and Chen needs to be sanitized."
   ]
  },
  {
   "cell_type": "code",
   "execution_count": null,
   "id": "8e869eaa-98c3-4e2e-9e44-4b06bc1c4ee2",
   "metadata": {},
   "outputs": [],
   "source": [
    "chen_path = Path(\"/datadrive/bgcflow/data/external/Chen_et_al/\")\n",
    "chen_corrected_path = Path(\"/datadrive/bgcflow/data/external/Chen_et_al_sanitized/\")\n",
    "chen_corrected_path.mkdir(parents=True, exist_ok=True)"
   ]
  },
  {
   "cell_type": "code",
   "execution_count": null,
   "id": "cc0a7023-4394-43df-a23a-01f4f85962a4",
   "metadata": {},
   "outputs": [],
   "source": [
    "for i in chen_path.glob(\"*.fna\"):\n",
    "    sanitize_chen_et_al(i, chen_corrected_path)"
   ]
  },
  {
   "cell_type": "code",
   "execution_count": null,
   "id": "b2161a88-627a-4392-a18c-97aa8f9e0881",
   "metadata": {},
   "outputs": [],
   "source": []
  },
  {
   "cell_type": "code",
   "execution_count": 104,
   "id": "6ff2d791-47f2-4a19-acb2-20be5a9039c3",
   "metadata": {},
   "outputs": [],
   "source": [
    "sharrar_path = Path(\"/datadrive/bgcflow/data/external/Sharrar_et_al/\")\n",
    "sharrar_corrected_path = Path(\"/datadrive/bgcflow/data/external/Sharrar_et_al_sanitized/\")\n",
    "sharrar_corrected_path.mkdir(parents=True, exist_ok=True)"
   ]
  },
  {
   "cell_type": "code",
   "execution_count": 105,
   "id": "e68c9f93-0792-4d5a-898e-5717b663dccc",
   "metadata": {},
   "outputs": [
    {
     "name": "stdout",
     "output_type": "stream",
     "text": [
      "{2, 3, 4, 8, 9, 10, 14}\n"
     ]
    }
   ],
   "source": [
    "sample_ids = [i.stem for i in sharrar_path.glob(\"*.fna\")]\n",
    "\n",
    "# how many id variables are there\n",
    "print(set([len(i.split(\"_\")) for i in sample_ids]))"
   ]
  },
  {
   "cell_type": "code",
   "execution_count": 106,
   "id": "27e4ddc6-a149-4bd7-8c4b-8b2f1f41c89c",
   "metadata": {},
   "outputs": [],
   "source": [
    "# get unique values\n",
    "type_2 = {i:i.split(\"_\")[-1] for i in sample_ids if len(i.split(\"_\")) == 2}\n",
    "type_3 = {i:i.split(\"_\", 1)[-1] for i in sample_ids if len(i.split(\"_\")) == 3}\n",
    "type_4 = {i:i.split(\"_\", 2)[-1] for i in sample_ids if len(i.split(\"_\")) == 4}\n",
    "type_8 = {i:i.split(\"_\", 5)[-1] for i in sample_ids if len(i.split(\"_\")) == 8}\n",
    "type_9 = {i:i.split(\"_\", 6)[-1] for i in sample_ids if len(i.split(\"_\")) == 9}\n",
    "type_10 = {i:i.split(\"_\", 7)[-1] for i in sample_ids if len(i.split(\"_\")) == 10}\n",
    "type_14 = {i:i.split(\"_\", 11)[-1] for i in sample_ids if len(i.split(\"_\")) == 14}"
   ]
  },
  {
   "cell_type": "code",
   "execution_count": 107,
   "id": "356023b5-0d2e-43b0-b20e-1af596394418",
   "metadata": {},
   "outputs": [],
   "source": [
    "# aapend into one dictionary\n",
    "sample_id_dicts = {}\n",
    "unique_ids = [type_2, type_3, type_4, type_8, type_9, type_10, type_14]\n",
    "for d in unique_ids:\n",
    "    sample_id_dicts.update(d) "
   ]
  },
  {
   "cell_type": "code",
   "execution_count": 108,
   "id": "8c91f990-260a-44a0-a60f-80f88f62e7e9",
   "metadata": {},
   "outputs": [
    {
     "data": {
      "text/plain": [
       "True"
      ]
     },
     "execution_count": 108,
     "metadata": {},
     "output_type": "execute_result"
    }
   ],
   "source": [
    "# make sure value is unique\n",
    "len(sample_id_dicts.values()) == len(set(sample_id_dicts.values()))"
   ]
  },
  {
   "cell_type": "code",
   "execution_count": 109,
   "id": "22f54b0e-b8b2-437f-82ba-937ede737f1b",
   "metadata": {},
   "outputs": [],
   "source": [
    "output_dir = sharrar_corrected_path\n",
    "input_files = [i for i in sharrar_path.glob(\"*.fna\")]\n",
    "for i in input_files:\n",
    "    original_file = Path(i)\n",
    "    new_genome_id = sample_id_dicts[i.stem]\n",
    "    corrected_file = Path(output_dir) / f\"{new_genome_id}.fna\"\n",
    "    \n",
    "    log_dict = {}\n",
    "\n",
    "    with open(original_file) as original, open(corrected_file, 'w') as corrected:\n",
    "        records = SeqIO.parse(original_file, 'fasta')\n",
    "        ctr = 1\n",
    "        for record in records:       \n",
    "            old_id = record.id\n",
    "            new_id = f\"{new_genome_id}_{ctr}\"\n",
    "            record.id = new_id\n",
    "            ctr = ctr + 1\n",
    "            SeqIO.write(record, corrected, 'fasta')\n",
    "            \n",
    "            log_dict[old_id] = new_id\n",
    "    \n",
    "    with open(Path(output_dir) / f\"{new_genome_id}.json\", \"w\") as out_file:\n",
    "        json.dump(log_dict, out_file, indent = 4)"
   ]
  },
  {
   "cell_type": "code",
   "execution_count": 110,
   "id": "33941822-0423-458b-a0dc-488f5f437ce8",
   "metadata": {},
   "outputs": [],
   "source": [
    "import pandas as pd"
   ]
  },
  {
   "cell_type": "code",
   "execution_count": 112,
   "id": "dc254d8a-c719-4c80-b70e-7b7c6318e60a",
   "metadata": {},
   "outputs": [],
   "source": [
    "df_sharrar = pd.read_csv(\"/datadrive/bgcflow/config/Sharrar_et_al/df_sharrar_bacteria.csv\")"
   ]
  },
  {
   "cell_type": "code",
   "execution_count": 117,
   "id": "42a86017-29c2-4bdb-8844-8296d8a1444c",
   "metadata": {},
   "outputs": [],
   "source": [
    "df_sharrar = df_sharrar.rename(columns={\"genome_id\":\"original_genome_id\"})"
   ]
  },
  {
   "cell_type": "code",
   "execution_count": 120,
   "id": "065d47fc-38bb-487b-86a7-adcfeea9b805",
   "metadata": {},
   "outputs": [],
   "source": [
    "for i in df_sharrar.index:\n",
    "    df_sharrar.loc[i, \"genome_id\"] = sample_id_dicts[df_sharrar.loc[i, \"original_genome_id\"]]"
   ]
  },
  {
   "cell_type": "code",
   "execution_count": 122,
   "id": "9ddffc16-861d-4d6e-9ae1-b52523275c03",
   "metadata": {},
   "outputs": [],
   "source": [
    "# shift column 'Name' to first position\n",
    "first_column = df_sharrar.pop('genome_id')\n",
    "  \n",
    "# insert column using insert(position,column_name,\n",
    "# first_column) function\n",
    "df_sharrar.insert(0, 'genome_id', first_column)"
   ]
  },
  {
   "cell_type": "code",
   "execution_count": 143,
   "id": "79f46da1-d6ab-48ce-b5f6-a3dd344f0b77",
   "metadata": {},
   "outputs": [],
   "source": [
    "df_sharrar.to_csv(\"/datadrive/bgcflow/config/Sharrar_et_al/df_sharrar_bacteria_sanitized.csv\", index=None)"
   ]
  },
  {
   "cell_type": "code",
   "execution_count": null,
   "id": "6ce96a01-5093-4f65-b8a8-2a1cc454f622",
   "metadata": {},
   "outputs": [],
   "source": []
  },
  {
   "cell_type": "code",
   "execution_count": 132,
   "id": "e9480066-7966-4783-bd76-e25eb4736f32",
   "metadata": {},
   "outputs": [],
   "source": [
    "df_gtdb = pd.read_csv(\"/datadrive/bgcflow/config/gtdbtk.bac120.summary_christoph_filtered.tsv\", sep=\"\\t\")\n",
    "df_gtdb = df_gtdb.rename(columns={\"user_genome\":\"original_user_genome\"})"
   ]
  },
  {
   "cell_type": "code",
   "execution_count": 134,
   "id": "258491e0-38a7-49cf-8104-e38b30583d90",
   "metadata": {},
   "outputs": [
    {
     "data": {
      "text/plain": [
       "0             14_0903_02_20cm_Proteobacteria_54_67_14\n",
       "1       14_0903_02_30cm_Rickettsiella_grylli_159_36_9\n",
       "2        14_0903_02_30cm_Sphingobacteriales_157_38_13\n",
       "3         14_0903_02_30cm_Sphingobacteriales_165_43_8\n",
       "4          14_0903_02_30cm_Sphingomonadales_156_68_15\n",
       "                            ...                      \n",
       "1260                                     mgm4762960.3\n",
       "1261                                     mgm4762961.3\n",
       "1262                                     mgm4762962.3\n",
       "1263                                     mgm4762963.3\n",
       "1264                                     mgm4762965.3\n",
       "Name: original_user_genome, Length: 1265, dtype: object"
      ]
     },
     "execution_count": 134,
     "metadata": {},
     "output_type": "execute_result"
    }
   ],
   "source": [
    "df_gtdb.original_user_genome"
   ]
  },
  {
   "cell_type": "code",
   "execution_count": 135,
   "id": "87c852a8-cac6-4617-8610-2039b5ded15a",
   "metadata": {},
   "outputs": [],
   "source": [
    "for i in df_gtdb.index:\n",
    "    try:\n",
    "        df_gtdb.loc[i, \"user_genome\"] = sample_id_dicts[df_gtdb.loc[i, \"original_user_genome\"]]\n",
    "    except KeyError:\n",
    "        df_gtdb.loc[i, \"user_genome\"] = df_gtdb.loc[i, \"original_user_genome\"]"
   ]
  },
  {
   "cell_type": "code",
   "execution_count": 137,
   "id": "ff151bf0-0f62-4022-8cbe-767513d162f5",
   "metadata": {},
   "outputs": [],
   "source": [
    "# shift column 'Name' to first position\n",
    "first_column = df_gtdb.pop('user_genome')\n",
    "  \n",
    "# insert column using insert(position,column_name,\n",
    "# first_column) function\n",
    "df_gtdb.insert(0, 'user_genome', first_column)"
   ]
  },
  {
   "cell_type": "code",
   "execution_count": 141,
   "id": "a2fd6219-3ff7-40cf-b0c5-3facab0433d3",
   "metadata": {},
   "outputs": [],
   "source": [
    "df_gtdb.to_csv(\"/datadrive/bgcflow/config/gtdbtk.bac120.summary_christoph_filtered_sharrar_sanitized.tsv\", sep=\"\\t\", index=None)"
   ]
  },
  {
   "cell_type": "code",
   "execution_count": null,
   "id": "5264747c-c90f-477d-9da9-361103cff217",
   "metadata": {},
   "outputs": [],
   "source": []
  }
 ],
 "metadata": {
  "kernelspec": {
   "display_name": "Python 3 (ipykernel)",
   "language": "python",
   "name": "python3"
  },
  "language_info": {
   "codemirror_mode": {
    "name": "ipython",
    "version": 3
   },
   "file_extension": ".py",
   "mimetype": "text/x-python",
   "name": "python",
   "nbconvert_exporter": "python",
   "pygments_lexer": "ipython3",
   "version": "3.10.4"
  }
 },
 "nbformat": 4,
 "nbformat_minor": 5
}
