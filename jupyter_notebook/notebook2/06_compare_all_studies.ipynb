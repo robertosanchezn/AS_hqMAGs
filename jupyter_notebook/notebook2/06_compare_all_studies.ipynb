{
 "cells": [
  {
   "cell_type": "code",
   "execution_count": 2,
   "id": "5d5483ba-ded9-49ad-9f9f-464c1a6d6f32",
   "metadata": {},
   "outputs": [],
   "source": [
    "# merge all study into one\n",
    "import pandas as pd\n",
    "from pathlib import Path"
   ]
  },
  {
   "cell_type": "code",
   "execution_count": 3,
   "id": "c8eab69c-ac40-4197-9cbf-c68d8a6cd8c5",
   "metadata": {},
   "outputs": [],
   "source": [
    "config_dir = Path(\"/datadrive/bgcflow/config/\")"
   ]
  },
  {
   "cell_type": "code",
   "execution_count": 45,
   "id": "91bb1bab-3cb7-4a70-82a3-2553690fdcc5",
   "metadata": {},
   "outputs": [
    {
     "data": {
      "text/plain": [
       "2594"
      ]
     },
     "execution_count": 45,
     "metadata": {},
     "output_type": "execute_result"
    }
   ],
   "source": [
    "sample_tables = []\n",
    "ctr = 0\n",
    "for i in config_dir.glob(\"*/*bacteria*csv\"):\n",
    "    df = pd.read_csv(i)\n",
    "    df.loc[:, \"bgcflow_project_name\"] = i.parent.stem\n",
    "    sample_tables.append(df)\n",
    "    ctr = ctr + len(df.index)\n",
    "ctr"
   ]
  },
  {
   "cell_type": "code",
   "execution_count": 34,
   "id": "f3c14571-ecdb-44c6-888e-57170e412626",
   "metadata": {},
   "outputs": [
    {
     "data": {
      "text/plain": [
       "(2345, 21)"
      ]
     },
     "execution_count": 34,
     "metadata": {},
     "output_type": "execute_result"
    }
   ],
   "source": [
    "gtdb_other = \"/datadrive/bgcflow/config/gtdbtk.bac120.summary_christoph_filtered_sharrar_sanitized.tsv\"\n",
    "gtdb_singleton = \"/datadrive/bgcflow/config/Singleton_et_al/gtdbtk.bac120.summary_singleton.tsv\"\n",
    "df_gtdb = pd.concat([pd.read_csv(gtdb_other, sep=\"\\t\"), pd.read_csv(gtdb_singleton, sep=\"\\t\")])\n",
    "df_gtdb.shape"
   ]
  },
  {
   "cell_type": "code",
   "execution_count": 35,
   "id": "4d84b926-0a3b-42fe-8f5d-1c29d6855509",
   "metadata": {},
   "outputs": [],
   "source": [
    "df_samples = pd.concat(sample_tables)"
   ]
  },
  {
   "cell_type": "code",
   "execution_count": 40,
   "id": "49461390-5404-4ee0-8dc8-305196903a0d",
   "metadata": {},
   "outputs": [],
   "source": [
    "filter_df = df_gtdb.user_genome.to_list()"
   ]
  },
  {
   "cell_type": "code",
   "execution_count": 48,
   "id": "c18309b2-10b3-4988-b5b2-261e622a48cc",
   "metadata": {},
   "outputs": [],
   "source": [
    "# some samples failed in GTDB\n",
    "df_samples[~df_samples.genome_id.isin(filter_df)].to_csv(\"no_gtdb.csv\")"
   ]
  },
  {
   "cell_type": "code",
   "execution_count": 52,
   "id": "24450a82-6207-465e-affa-32c3af14afef",
   "metadata": {},
   "outputs": [],
   "source": [
    "df_samples.to_csv(\"/datadrive/bgcflow/config/all_hqmags_studies/all_hqmags_studies.csv\", index=None)\n",
    "df_gtdb.to_csv(\"/datadrive/bgcflow/config/all_hqmags_studies/gtdb.all_hqmags_studies.tsv\", index=None, sep=\"\\t\")"
   ]
  },
  {
   "cell_type": "code",
   "execution_count": null,
   "id": "96aaa5c9-2c01-45f2-9df5-c7310cd698f8",
   "metadata": {},
   "outputs": [],
   "source": []
  }
 ],
 "metadata": {
  "kernelspec": {
   "display_name": "Python 3 (ipykernel)",
   "language": "python",
   "name": "python3"
  },
  "language_info": {
   "codemirror_mode": {
    "name": "ipython",
    "version": 3
   },
   "file_extension": ".py",
   "mimetype": "text/x-python",
   "name": "python",
   "nbconvert_exporter": "python",
   "pygments_lexer": "ipython3",
   "version": "3.10.4"
  }
 },
 "nbformat": 4,
 "nbformat_minor": 5
}
