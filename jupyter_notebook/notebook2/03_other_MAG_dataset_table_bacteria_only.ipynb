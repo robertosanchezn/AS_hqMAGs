{
 "cells": [
  {
   "cell_type": "code",
   "execution_count": 2,
   "id": "20a84bbb-56bb-4530-b3c7-edeba78c3631",
   "metadata": {},
   "outputs": [],
   "source": [
    "import pandas as pd\n",
    "from pathlib import Path"
   ]
  },
  {
   "cell_type": "code",
   "execution_count": 5,
   "id": "4c02d5dd-e4be-4a6d-b683-640b3b13c176",
   "metadata": {},
   "outputs": [],
   "source": [
    "gtdb_archaea = Path(\"/datadrive/bgcflow/data/external/gtdbtk/gtdbtk.ar122.summary.tsv\")\n",
    "df_archaea = pd.read_csv(gtdb_archaea, sep=\"\\t\")"
   ]
  },
  {
   "cell_type": "code",
   "execution_count": 6,
   "id": "b95e40bb-97fe-4fe5-b807-7917c8bd013c",
   "metadata": {},
   "outputs": [],
   "source": [
    "tables_path = Path(\"../tables/other_studies/\")"
   ]
  },
  {
   "cell_type": "code",
   "execution_count": 11,
   "id": "51360dd8-56a9-4e8b-a558-0001fcb2e0a9",
   "metadata": {},
   "outputs": [],
   "source": [
    "tables = [i for i in tables_path.glob(\"*.csv\")]"
   ]
  },
  {
   "cell_type": "code",
   "execution_count": 25,
   "id": "c246f38c-3a48-4cd7-96c8-2be097a67f06",
   "metadata": {},
   "outputs": [],
   "source": [
    "for i in tables_path.glob(\"*.csv\"):\n",
    "    df = pd.read_csv(i)\n",
    "    mask = df.genome_id.isin(df_archaea.user_genome)\n",
    "    df[~mask].to_csv(f\"../tables/other_studies/{i.stem}_bacteria.csv\", index=None)"
   ]
  },
  {
   "cell_type": "code",
   "execution_count": 24,
   "id": "844302c4-501c-4a84-a3ad-782c2f131974",
   "metadata": {},
   "outputs": [],
   "source": [
    "df = pd.read_csv(tables[0])\n",
    "mask = df.genome_id.isin(df_archaea.user_genome)\n",
    "df[~mask].to_csv(f\"../tables/other_studies/{tables[0].stem}_bacteria.csv\", index=None)"
   ]
  },
  {
   "cell_type": "code",
   "execution_count": 22,
   "id": "6a87e320-ac53-476a-a457-3eb84d47c376",
   "metadata": {},
   "outputs": [
    {
     "data": {
      "text/plain": [
       "'df_bickhart_bacteria.csv'"
      ]
     },
     "execution_count": 22,
     "metadata": {},
     "output_type": "execute_result"
    }
   ],
   "source": [
    "f\"{tables[0].stem}_bacteria.csv\""
   ]
  },
  {
   "cell_type": "code",
   "execution_count": null,
   "id": "fc8e369c-ccdc-4fd8-adaa-185a95ddb772",
   "metadata": {},
   "outputs": [],
   "source": []
  }
 ],
 "metadata": {
  "kernelspec": {
   "display_name": "Python 3 (ipykernel)",
   "language": "python",
   "name": "python3"
  },
  "language_info": {
   "codemirror_mode": {
    "name": "ipython",
    "version": 3
   },
   "file_extension": ".py",
   "mimetype": "text/x-python",
   "name": "python",
   "nbconvert_exporter": "python",
   "pygments_lexer": "ipython3",
   "version": "3.10.4"
  }
 },
 "nbformat": 4,
 "nbformat_minor": 5
}
