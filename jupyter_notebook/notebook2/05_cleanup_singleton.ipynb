{
 "cells": [
  {
   "cell_type": "code",
   "execution_count": 1,
   "id": "8ac01884-aec2-4fd0-b06d-a64688633844",
   "metadata": {},
   "outputs": [],
   "source": [
    "import pandas as pd"
   ]
  },
  {
   "cell_type": "code",
   "execution_count": 2,
   "id": "4370272a-fce1-473a-9478-28f99f87e725",
   "metadata": {},
   "outputs": [],
   "source": [
    "df_singleton = pd.read_csv(\"../tables/wwtphqmags.csv\")"
   ]
  },
  {
   "cell_type": "code",
   "execution_count": 3,
   "id": "21d6238a-8fe7-4e51-a290-e341e5bf083f",
   "metadata": {},
   "outputs": [],
   "source": [
    "df_gtdb = pd.read_csv(\"../tables/wwtphqmags.gtdbtk.summary.tsv\", sep=\"\\t\")"
   ]
  },
  {
   "cell_type": "code",
   "execution_count": 4,
   "id": "86311e6c-f017-4ec3-9ea4-6eeb71a91a03",
   "metadata": {},
   "outputs": [
    {
     "data": {
      "text/plain": [
       "['GCA_016699325.1', 'GCA_016699555.1', 'GCA_016706325.1']"
      ]
     },
     "execution_count": 4,
     "metadata": {},
     "output_type": "execute_result"
    }
   ],
   "source": [
    "# drop archaea\n",
    "filter_archaea = df_gtdb[df_gtdb.classification.str.startswith(\"d__Archaea\")].user_genome.to_list()\n",
    "filter_archaea"
   ]
  },
  {
   "cell_type": "code",
   "execution_count": 5,
   "id": "ad6adf5b-0e4b-450e-ab7a-71dccbad5ea2",
   "metadata": {},
   "outputs": [],
   "source": [
    "df_singleton = df_singleton[~df_singleton.loc[:, \"genome_id\"].isin(filter_archaea)]\n",
    "df_singleton.to_csv(\"/datadrive/bgcflow/config/Singleton_et_al/df_singleton_bacteria.csv\", index=None)"
   ]
  },
  {
   "cell_type": "code",
   "execution_count": 6,
   "id": "d918376e-322c-4614-8ad9-f02f4e426f96",
   "metadata": {},
   "outputs": [],
   "source": [
    "df_gtdb[~df_gtdb.classification.str.startswith(\"d__Archaea\")].to_csv(\"/datadrive/bgcflow/config/Singleton_et_al/gtdbtk.bac120.summary_singleton.tsv\", sep=\"\\t\", index=None)"
   ]
  },
  {
   "cell_type": "code",
   "execution_count": 7,
   "id": "09abdf41-81de-4779-a4da-a87969d09ae4",
   "metadata": {},
   "outputs": [],
   "source": [
    "# copy from previous run\n",
    "df_gtdb = df_gtdb[~df_gtdb.classification.str.startswith(\"d__Archaea\")]"
   ]
  },
  {
   "cell_type": "code",
   "execution_count": 8,
   "id": "8f88ee11-b492-4db1-ab02-2b099f2e6b3c",
   "metadata": {},
   "outputs": [],
   "source": [
    "df_gtdb.user_genome.to_csv(\"../tables/selection_singleton.txt\", sep=\"\\t\", header=None, index=None)"
   ]
  },
  {
   "cell_type": "code",
   "execution_count": 1,
   "id": "858bb09a-d5b4-456d-ae88-4545ec2a53e2",
   "metadata": {},
   "outputs": [],
   "source": [
    "from pathlib import Path\n",
    "from alive_progress import alive_bar\n",
    "import shutil\n",
    "source = Path(\"/datadrive/previous_run/bgcflow_previous_run/data/interim\")\n",
    "target = Path(\"/datadrive/bgcflow/data/interim\")"
   ]
  },
  {
   "cell_type": "code",
   "execution_count": 2,
   "id": "7c33fbc1-ec56-4ec5-9f67-83034184ac5f",
   "metadata": {},
   "outputs": [],
   "source": [
    "data_type = {\"fasta\":\".fna\",\n",
    "             \"antismash/6.0.1\":\"\",\n",
    "             \"assembly_report\":\".json\",\n",
    "             \"processed-genbank\":\".gbk\",\n",
    "             \"prokka\":\"\",\n",
    "             \"gtdb\":\".json\"}"
   ]
  },
  {
   "cell_type": "code",
   "execution_count": 3,
   "id": "79fd1b1a-163e-481c-861e-a1938b933037",
   "metadata": {},
   "outputs": [],
   "source": [
    "data_type = {\"gtdb\":\".json\"}"
   ]
  },
  {
   "cell_type": "code",
   "execution_count": 4,
   "id": "fd7ebd86-fb95-43d5-8131-ae8a37abd415",
   "metadata": {},
   "outputs": [
    {
     "name": "stdout",
     "output_type": "stream",
     "text": [
      "|████████████████████████████████████████| 1080/1080 [100%] in 0.4s (3013.18/s) ta: -)\n"
     ]
    }
   ],
   "source": [
    "with open(\"../tables/selection_singleton.txt\") as f:\n",
    "    ids = [i.strip(\"\\n\") for i in f.readlines()]\n",
    "    with alive_bar(1080, force_tty=True) as bar:\n",
    "        for i in ids:\n",
    "            for d in data_type.keys():\n",
    "                input_file = source / d / f\"{i}{data_type[d]}\"\n",
    "                output_file = target / d / f\"{i}{data_type[d]}\"\n",
    "                if input_file.is_dir():\n",
    "                    shutil.copytree(input_file, output_file)\n",
    "                elif input_file.is_file():\n",
    "                    shutil.copy(input_file, output_file)\n",
    "            bar()"
   ]
  },
  {
   "cell_type": "code",
   "execution_count": 16,
   "id": "b9ab3cd3-1eec-4699-b23f-9fe606e80a5c",
   "metadata": {},
   "outputs": [
    {
     "data": {
      "text/plain": [
       "False"
      ]
     },
     "execution_count": 16,
     "metadata": {},
     "output_type": "execute_result"
    }
   ],
   "source": [
    "input_file.is_file()"
   ]
  },
  {
   "cell_type": "code",
   "execution_count": null,
   "id": "823070b8-bbe6-4b72-b76d-0dc75937626b",
   "metadata": {},
   "outputs": [],
   "source": []
  }
 ],
 "metadata": {
  "kernelspec": {
   "display_name": "Python 3 (ipykernel)",
   "language": "python",
   "name": "python3"
  },
  "language_info": {
   "codemirror_mode": {
    "name": "ipython",
    "version": 3
   },
   "file_extension": ".py",
   "mimetype": "text/x-python",
   "name": "python",
   "nbconvert_exporter": "python",
   "pygments_lexer": "ipython3",
   "version": "3.10.4"
  }
 },
 "nbformat": 4,
 "nbformat_minor": 5
}
