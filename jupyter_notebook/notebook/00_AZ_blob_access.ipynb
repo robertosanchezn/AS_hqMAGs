{
 "cells": [
  {
   "cell_type": "markdown",
   "id": "advisory-membership",
   "metadata": {},
   "source": [
    "# Accessing AZ Blob storage\n",
    "This notebook demonstrate how to use the Azure CLI to grab the necessity data required in the other notebooks.\n",
    "\n",
    "Prerequisite: \n",
    "- Must have az cli installed. You can install it via the [`environment.yml`](../../environment.yml).\n",
    "- Must have the `blob-key.json` and store it in the `../secret` folder (or any other folder you want)\n",
    "\n",
    "### Find out what containers are available in azure blob storage"
   ]
  },
  {
   "cell_type": "code",
   "execution_count": null,
   "id": "internal-ensemble",
   "metadata": {},
   "outputs": [],
   "source": [
    "import os, json"
   ]
  },
  {
   "cell_type": "code",
   "execution_count": null,
   "id": "premier-marketplace",
   "metadata": {},
   "outputs": [],
   "source": [
    "with open(\"../secret/blob-key.json\") as f:\n",
    "    az_account = json.load(f)\n",
    "account_name = az_account[\"account_name\"]\n",
    "key = az_account[\"key\"]"
   ]
  },
  {
   "cell_type": "code",
   "execution_count": null,
   "id": "intimate-desperate",
   "metadata": {},
   "outputs": [],
   "source": [
    "# Get all containers info from azure blob storage account\n",
    "if not os.path.exists('response'):\n",
    "    os.makedirs('response')\n",
    "! az Storage container list --account-key {key} --account-name {account_name} > response/{account_name}.json"
   ]
  },
  {
   "cell_type": "code",
   "execution_count": null,
   "id": "enabling-questionnaire",
   "metadata": {},
   "outputs": [],
   "source": [
    "# This will print the name of all containers available in our azure blob storage account\n",
    "with open(f\"response/{account_name}.json\") as f:\n",
    "    containers = json.load(f)\n",
    "[c[\"name\"] for c in containers]"
   ]
  },
  {
   "cell_type": "markdown",
   "id": "307d7904-cd7a-4b9c-8f6f-29b60c9ec656",
   "metadata": {},
   "source": [
    "We can see from the response that there are 5 different containers available in our account"
   ]
  },
  {
   "cell_type": "markdown",
   "id": "thirty-chinese",
   "metadata": {},
   "source": [
    "### Get item list in a container\n",
    "If you want to know what items are available inside a container, you can do the following:"
   ]
  },
  {
   "cell_type": "code",
   "execution_count": null,
   "id": "vulnerable-disclosure",
   "metadata": {},
   "outputs": [],
   "source": [
    "query = \"processed\" \n",
    "# List all items in a container\n",
    "! az Storage blob list --container-name {query} --account-name {account_name} \\\n",
    "    --account-key {key} > response/{account_name}-{query}.json"
   ]
  },
  {
   "cell_type": "code",
   "execution_count": null,
   "id": "guided-haven",
   "metadata": {},
   "outputs": [],
   "source": [
    "with open(f\"response/{account_name}-{query}.json\") as f:\n",
    "    query_response = json.load(f)"
   ]
  },
  {
   "cell_type": "code",
   "execution_count": null,
   "id": "announced-memorial",
   "metadata": {},
   "outputs": [],
   "source": [
    "item_list = [q[\"name\"] for q in query_response]"
   ]
  },
  {
   "cell_type": "markdown",
   "id": "9bf23d4f-6bab-4cc3-892b-8e781deea9a5",
   "metadata": {},
   "source": [
    "The `item_list` is a list of all blob items we have in the container. Note that these are pseudo directories, in reality its just 1 layer."
   ]
  },
  {
   "cell_type": "markdown",
   "id": "stupid-triple",
   "metadata": {},
   "source": [
    "### Download required items for downstream analysis"
   ]
  },
  {
   "cell_type": "code",
   "execution_count": null,
   "id": "southeast-laugh",
   "metadata": {},
   "outputs": [],
   "source": [
    "blob_items = [\"bigslice_query/reports.zip\",\n",
    "              \"p__Myxococcota_all/bigscape/p__Myxococcota_all_antismash_6.0.1.zip\",\n",
    "              \"p__Nitrospirota_all/bigscape/p__Nitrospirota_all_antismash_6.0.1.zip\"\n",
    "             ]"
   ]
  },
  {
   "cell_type": "code",
   "execution_count": null,
   "id": "collected-classics",
   "metadata": {},
   "outputs": [],
   "source": [
    "# I should've change this with the python api\n",
    "for item in blob_items:\n",
    "    download_dir = \"../data\"\n",
    "    fn = os.path.join(download_dir, os.path.basename(item))\n",
    "    os_command = f\"az Storage blob download --account-key {key} --account-name {account_name} --container-name {query} --file {fn} --name {item}\"\n",
    "    ! {os_command}"
   ]
  },
  {
   "cell_type": "code",
   "execution_count": null,
   "id": "perfect-black",
   "metadata": {},
   "outputs": [],
   "source": [
    "### Download batch items\n",
    "#! az Storage blob download-batch --account-key {key} --account-name {account_name} \\\n",
    "#    --source {query} --destination . --pattern tables/*.csv"
   ]
  }
 ],
 "metadata": {
  "kernelspec": {
   "display_name": "Python 3 (ipykernel)",
   "language": "python",
   "name": "python3"
  },
  "language_info": {
   "codemirror_mode": {
    "name": "ipython",
    "version": 3
   },
   "file_extension": ".py",
   "mimetype": "text/x-python",
   "name": "python",
   "nbconvert_exporter": "python",
   "pygments_lexer": "ipython3",
   "version": "3.10.2"
  }
 },
 "nbformat": 4,
 "nbformat_minor": 5
}
