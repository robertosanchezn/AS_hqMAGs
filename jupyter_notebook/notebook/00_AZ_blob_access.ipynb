{
 "cells": [
  {
   "cell_type": "markdown",
   "id": "853a4fee-9d70-49a0-b5c7-2e64bd08ade0",
   "metadata": {},
   "source": [
    "# Accessing AZ Blob storage\n",
    "- Prerequisite: must have az cli installed. Install here: https://docs.microsoft.com/en-us/cli/azure/install-azure-cli-linux?view=azure-cli-latest&pivots=apt\n",
    "- Must have the `blob-key.json`\n",
    "\n",
    "### Find out what containers are available in azure blob storage:"
   ]
  },
  {
   "cell_type": "code",
   "execution_count": 1,
   "id": "ed903559-13be-4b32-a50d-573f1c2b39b3",
   "metadata": {},
   "outputs": [],
   "source": [
    "import json"
   ]
  },
  {
   "cell_type": "code",
   "execution_count": 2,
   "id": "1ad73aa6-f68d-4c7f-805d-d733360f6808",
   "metadata": {},
   "outputs": [],
   "source": [
    "with open(\"secret/blob-key.json\") as f:\n",
    "    az_account = json.load(f)\n",
    "account_name = az_account[\"account_name\"]\n",
    "key = az_account[\"key\"]"
   ]
  },
  {
   "cell_type": "code",
   "execution_count": 3,
   "id": "95918494-3665-4585-ae76-bd81021da176",
   "metadata": {},
   "outputs": [],
   "source": [
    "# Get all containers info from azure blob storage account\n",
    "! az Storage container list --account-key {key} --account-name {account_name} > response/{account_name}.json"
   ]
  },
  {
   "cell_type": "code",
   "execution_count": 4,
   "id": "5de669ba-841c-4fd4-85bb-8341797c9474",
   "metadata": {},
   "outputs": [
    {
     "data": {
      "text/plain": [
       "['antismash', 'genbank', 'interim', 'jsonantismash', 'processed']"
      ]
     },
     "execution_count": 4,
     "metadata": {},
     "output_type": "execute_result"
    }
   ],
   "source": [
    "with open(f\"response/{account_name}.json\") as f:\n",
    "    containers = json.load(f)\n",
    "[c[\"name\"] for c in containers]"
   ]
  },
  {
   "cell_type": "markdown",
   "id": "8b9f999b-84a5-4305-8514-8d0ba0b5e9e1",
   "metadata": {},
   "source": [
    "### Get item list in a container"
   ]
  },
  {
   "cell_type": "code",
   "execution_count": 5,
   "id": "e0386b32-536b-43fc-a7fa-5a5d64fbcfd0",
   "metadata": {},
   "outputs": [],
   "source": [
    "query = \"processed\" \n",
    "# List all items in a container\n",
    "! az Storage blob list --container-name {query} --account-name {account_name} \\\n",
    "    --account-key {key} > response/{account_name}-{query}.json"
   ]
  },
  {
   "cell_type": "code",
   "execution_count": 6,
   "id": "0ac98ccb-5bc8-4e0b-9dda-e6d0e7d8933c",
   "metadata": {},
   "outputs": [],
   "source": [
    "with open(f\"response/{account_name}-{query}.json\") as f:\n",
    "    query_response = json.load(f)"
   ]
  },
  {
   "cell_type": "code",
   "execution_count": 7,
   "id": "db9e70a3-2639-4353-aff3-624e3bff08da",
   "metadata": {},
   "outputs": [],
   "source": [
    "item_list = [q[\"name\"] for q in query_response]"
   ]
  },
  {
   "cell_type": "code",
   "execution_count": 8,
   "id": "c23e3f21-396d-4d07-a179-1944c8a7625c",
   "metadata": {},
   "outputs": [
    {
     "data": {
      "text/plain": [
       "['antismash/6.0.1/GCA_001312805.1.zip',\n",
       " 'antismash/6.0.1/GCA_001464385.1.zip',\n",
       " 'antismash/6.0.1/GCA_001464735.1.zip',\n",
       " 'antismash/6.0.1/GCA_001567445.1.zip',\n",
       " 'antismash/6.0.1/GCA_001643555.1.zip',\n",
       " 'antismash/6.0.1/GCA_001768075.1.zip',\n",
       " 'antismash/6.0.1/GCA_001803605.1.zip',\n",
       " 'antismash/6.0.1/GCA_001803635.1.zip',\n",
       " 'antismash/6.0.1/GCA_001803645.1.zip']"
      ]
     },
     "execution_count": 8,
     "metadata": {},
     "output_type": "execute_result"
    }
   ],
   "source": [
    "item_list[1:10]"
   ]
  },
  {
   "cell_type": "markdown",
   "id": "d8377af9-e1c1-4ccd-8121-a0d534c565c7",
   "metadata": {},
   "source": [
    "### Upload or download items"
   ]
  },
  {
   "cell_type": "code",
   "execution_count": 9,
   "id": "2cd89aae-e0de-45ff-a29b-acc6699b7ba7",
   "metadata": {},
   "outputs": [],
   "source": [
    "item_to_download = item_list[1]"
   ]
  },
  {
   "cell_type": "code",
   "execution_count": 10,
   "id": "82d3830d-74f6-4d0f-9b99-a547de9caffe",
   "metadata": {},
   "outputs": [
    {
     "name": "stdout",
     "output_type": "stream",
     "text": [
      "Finished[#############################################################]  100.0000%\n",
      "{\n",
      "  \"content\": null,\n",
      "  \"deleted\": false,\n",
      "  \"metadata\": {},\n",
      "  \"name\": \"antismash/6.0.1/GCA_001312805.1.zip\",\n",
      "  \"properties\": {\n",
      "    \"appendBlobCommittedBlockCount\": null,\n",
      "    \"blobTier\": null,\n",
      "    \"blobTierChangeTime\": null,\n",
      "    \"blobTierInferred\": false,\n",
      "    \"blobType\": \"BlockBlob\",\n",
      "    \"contentLength\": 5978332,\n",
      "    \"contentRange\": \"bytes 0-5978331/5978332\",\n",
      "    \"contentSettings\": {\n",
      "      \"cacheControl\": null,\n",
      "      \"contentDisposition\": null,\n",
      "      \"contentEncoding\": null,\n",
      "      \"contentLanguage\": null,\n",
      "      \"contentMd5\": \"7aDSca0w5LzpPs1qWc/KXQ==\",\n",
      "      \"contentType\": \"application/zip\"\n",
      "    },\n",
      "    \"copy\": {\n",
      "      \"completionTime\": null,\n",
      "      \"id\": null,\n",
      "      \"progress\": null,\n",
      "      \"source\": null,\n",
      "      \"status\": null,\n",
      "      \"statusDescription\": null\n",
      "    },\n",
      "    \"creationTime\": \"2022-01-31T09:03:35+00:00\",\n",
      "    \"deletedTime\": null,\n",
      "    \"etag\": \"\\\"0x8D9E4989002F32C\\\"\",\n",
      "    \"lastModified\": \"2022-01-31T09:03:35+00:00\",\n",
      "    \"lease\": {\n",
      "      \"duration\": null,\n",
      "      \"state\": \"available\",\n",
      "      \"status\": \"unlocked\"\n",
      "    },\n",
      "    \"pageBlobSequenceNumber\": null,\n",
      "    \"remainingRetentionDays\": null,\n",
      "    \"serverEncrypted\": true\n",
      "  },\n",
      "  \"snapshot\": null\n",
      "}\n"
     ]
    }
   ],
   "source": [
    "### Download single item\n",
    "! az Storage blob download --account-key {key} --account-name {account_name} \\\n",
    "    --container-name {query} --file {item_to_download} --name {item_to_download} "
   ]
  },
  {
   "cell_type": "code",
   "execution_count": 14,
   "id": "7e022497-7373-426b-ba82-32f2fa108817",
   "metadata": {},
   "outputs": [
    {
     "name": "stdout",
     "output_type": "stream",
     "text": [
      "Finished[#############################################################]  100.0000%\n",
      "[\n",
      "  \"tables/df_antismash_6.0.1_summary.csv\",\n",
      "  \"tables/df_gtdb_meta-example.csv\",\n",
      "  \"tables/df_gtdb_meta-f__Nitrospiraceae_HQ_all.csv\",\n",
      "  \"tables/df_gtdb_meta-f__Nitrospiraceae_all.csv\",\n",
      "  \"tables/df_gtdb_meta-p__Myxococcota_all.csv\",\n",
      "  \"tables/df_gtdb_meta-p__Nitrospirota_HQ_all.csv\",\n",
      "  \"tables/df_gtdb_meta-p__Nitrospirota_all.csv\",\n",
      "  \"tables/df_ncbi_meta.csv\",\n",
      "  \"tables/df_seqfu_stats.csv\",\n",
      "  \"tables/p__Nitrospirota_alldf_antismash_6.0.1_summary.csv\"\n",
      "]\n"
     ]
    }
   ],
   "source": [
    "### Download batch items\n",
    "! az Storage blob download-batch --account-key {key} --account-name {account_name} \\\n",
    "    --source {query} --destination . --pattern tables/*.csv"
   ]
  }
 ],
 "metadata": {
  "kernelspec": {
   "display_name": "Python 3 (ipykernel)",
   "language": "python",
   "name": "python3"
  },
  "language_info": {
   "codemirror_mode": {
    "name": "ipython",
    "version": 3
   },
   "file_extension": ".py",
   "mimetype": "text/x-python",
   "name": "python",
   "nbconvert_exporter": "python",
   "pygments_lexer": "ipython3",
   "version": "3.10.1"
  }
 },
 "nbformat": 4,
 "nbformat_minor": 5
}
