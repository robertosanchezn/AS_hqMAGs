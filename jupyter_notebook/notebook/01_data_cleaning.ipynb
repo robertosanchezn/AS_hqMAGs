{
 "cells": [
  {
   "cell_type": "markdown",
   "id": "19acbe16-8fdd-4963-8934-1bacb13ffa9c",
   "metadata": {},
   "source": [
    "# Prepare Sample Files for BGCflow\n",
    "Use: `workflow/envs/bgc_analytics.yaml`\n",
    "\n",
    "This notebook will prepare a sample file (csv) for BGCflow (https://github.com/NBChub/bgcflow) to comparative BGC analysis in:\n",
    "- [o__Myxococcales](https://gtdb.ecogenomic.org/tree?r=o__Myxococcales)\n",
    "- [f__Nitrospiraceae](https://gtdb.ecogenomic.org/tree?r=f__Nitrospiraceae)\n",
    "\n",
    "We will compare all public genome assembly available in GTDB and MAGs from [Singleton et al., 2021](https://www.nature.com/articles/s41467-021-22203-2).\n",
    "\n",
    "## Table of Contents\n",
    "* [Library and paths setting](#load-library)\n",
    "* [Getting MAGs information from Singleton 2021](#second-bullet)\n",
    "    * [Data cleaning](#data-cleaning-mags)\n",
    "        * [Map to BioProject](#map-to-bioproject)\n",
    "    * [Filtering for Myxococcales](#myxo-filter-mags)\n",
    "    * [Filtering for Nitrospira](#nitro-filter-mags)\n",
    "* [Second Bullet Header](#second-bullet)\n",
    "\n",
    "### Load Library <a class=\"anchor\" id=\"load-library\"></a>\n"
   ]
  },
  {
   "cell_type": "code",
   "execution_count": 1,
   "id": "e52126fb-1508-4b2e-8431-66d74abe906f",
   "metadata": {},
   "outputs": [],
   "source": [
    "import pandas as pd\n",
    "import numpy as np\n",
    "import os"
   ]
  },
  {
   "cell_type": "code",
   "execution_count": 2,
   "id": "dda140ee-a7f0-4fd2-bdf1-bd85862f209e",
   "metadata": {},
   "outputs": [],
   "source": [
    "## Useful scripts\n",
    "def get_gtdb_tax(df):\n",
    "    \"\"\"\n",
    "    Clean bac120_taxonomy_<release>.tsv into pandas dataframe.\n",
    "    Get the file from https://data.gtdb.ecogenomic.org/releases/release202/202.0/bac120_taxonomy_r202.tsv\n",
    "    \"\"\"\n",
    "    # cleaning\n",
    "    df_tax = pd.DataFrame(df.apply(lambda x: x.split(\";\")).to_dict()).T\n",
    "    df_tax = df_tax.rename(columns={0:\"domain\",\n",
    "                          1:\"phylum\",\n",
    "                          2:\"class\",\n",
    "                          3:\"order\",\n",
    "                          4:\"family\",\n",
    "                          5:\"genus\",\n",
    "                          6:\"species\"})\n",
    "    return df_tax\n",
    "\n",
    "def format_bgcflow(df, outfile):\n",
    "    \"\"\"\n",
    "    Input a filtered Pandas DataFrame from bac120_taxonomy_<release>.tsv and format it to bgcflow samples.csv.\n",
    "    \"\"\"\n",
    "    filtered_df = df.copy()\n",
    "    for c in filtered_df.columns:\n",
    "        filtered_df.loc[:, c] = filtered_df.loc[:, c].apply(lambda x: x.split(\"__\")[-1])\n",
    "    filtered_df.insert(0, \"genome_id\", [g for g in filtered_df.index]) \n",
    "    filtered_df.insert(1, \"source\", [\"ncbi\" for g in filtered_df.index]) \n",
    "    filtered_df.insert(2, \"organism\", filtered_df.loc[:, \"species\"])\n",
    "    filtered_df.loc[:, \"species\"] = filtered_df.loc[:, \"species\"].apply(lambda x: x.split(\" \")[-1])\n",
    "    filtered_df.loc[:, \"strain\"] = np.nan\n",
    "    filtered_df.loc[:, \"closest_placement_reference\"] = np.nan\n",
    "    filtered_df.to_csv(outfile, index=False)\n",
    "    return filtered_df"
   ]
  },
  {
   "cell_type": "code",
   "execution_count": 3,
   "id": "9e77ec80-7032-4663-96bf-6220a5f35128",
   "metadata": {},
   "outputs": [],
   "source": [
    "# Set paths\n",
    "tables = \"../tables\"\n",
    "data = \"../data\""
   ]
  },
  {
   "cell_type": "markdown",
   "id": "0b1f4d18-ec87-4c90-8350-623487da4fcf",
   "metadata": {},
   "source": [
    "# Getting MAGs information from Singleton 2021 <a class=\"anchor\" id=\"load-library\">\n",
    "## Data Cleaning <a class=\"anchor\" id=\"data-cleaning-mags\">\n",
    "First we will get the metadata from the paper and map them to NCBI assembly ids. Grab the metadata with:"
   ]
  },
  {
   "cell_type": "code",
   "execution_count": 4,
   "id": "2ca7a30d-7c76-4815-b765-f7878ebd6126",
   "metadata": {},
   "outputs": [
    {
     "name": "stdout",
     "output_type": "stream",
     "text": [
      "File ‘../data/41467_2021_22203_MOESM5_ESM.xlsx’ already there; not retrieving.\n",
      "\n"
     ]
    }
   ],
   "source": [
    "! wget -P {data} https://static-content.springer.com/esm/art%3A10.1038%2Fs41467-021-22203-2/MediaObjects/41467_2021_22203_MOESM5_ESM.xlsx -nc"
   ]
  },
  {
   "cell_type": "code",
   "execution_count": 5,
   "id": "ea7c6412-10e6-4e40-baf6-a3d3e7185324",
   "metadata": {},
   "outputs": [
    {
     "data": {
      "text/html": [
       "<div>\n",
       "<style scoped>\n",
       "    .dataframe tbody tr th:only-of-type {\n",
       "        vertical-align: middle;\n",
       "    }\n",
       "\n",
       "    .dataframe tbody tr th {\n",
       "        vertical-align: top;\n",
       "    }\n",
       "\n",
       "    .dataframe thead th {\n",
       "        text-align: right;\n",
       "    }\n",
       "</style>\n",
       "<table border=\"1\" class=\"dataframe\">\n",
       "  <thead>\n",
       "    <tr style=\"text-align: right;\">\n",
       "      <th></th>\n",
       "      <th>MAG</th>\n",
       "      <th>NCBI_accession_number</th>\n",
       "      <th>NumContigs</th>\n",
       "      <th>TotBP</th>\n",
       "      <th>MaxContigBP</th>\n",
       "      <th>AvContigBP</th>\n",
       "      <th>HQMAG</th>\n",
       "      <th>HQdRep</th>\n",
       "      <th>HQdRep99ANI</th>\n",
       "      <th>HQSpRep</th>\n",
       "      <th>...</th>\n",
       "      <th>SILVA138Tax</th>\n",
       "      <th>SIdentity</th>\n",
       "      <th>SAlnLgth</th>\n",
       "      <th>ilmcov</th>\n",
       "      <th>npcov</th>\n",
       "      <th>max_abund</th>\n",
       "      <th>mm27f</th>\n",
       "      <th>mm534r</th>\n",
       "      <th>ttl_polymorphic_rate</th>\n",
       "      <th>polymut_rate</th>\n",
       "    </tr>\n",
       "  </thead>\n",
       "  <tbody>\n",
       "    <tr>\n",
       "      <th>0</th>\n",
       "      <td>AalE_18-Q3-R2-46_BAT3C.1_cln.fa</td>\n",
       "      <td>CP064957</td>\n",
       "      <td>1</td>\n",
       "      <td>1451127</td>\n",
       "      <td>1451127</td>\n",
       "      <td>1451127.0</td>\n",
       "      <td>1083HQ</td>\n",
       "      <td>183_0</td>\n",
       "      <td>183_0</td>\n",
       "      <td>SPREPHQ</td>\n",
       "      <td>...</td>\n",
       "      <td>JX983997.1.1289 Bacteria;Dependentiae;Babeliae...</td>\n",
       "      <td>89.9</td>\n",
       "      <td>1293.0</td>\n",
       "      <td>10.876333</td>\n",
       "      <td>10.614671</td>\n",
       "      <td>0.17912</td>\n",
       "      <td>1.0</td>\n",
       "      <td>0.0</td>\n",
       "      <td>0.00164</td>\n",
       "      <td>0.00052</td>\n",
       "    </tr>\n",
       "  </tbody>\n",
       "</table>\n",
       "<p>1 rows × 30 columns</p>\n",
       "</div>"
      ],
      "text/plain": [
       "                               MAG NCBI_accession_number  NumContigs    TotBP  \\\n",
       "0  AalE_18-Q3-R2-46_BAT3C.1_cln.fa            CP064957             1  1451127   \n",
       "\n",
       "   MaxContigBP  AvContigBP   HQMAG HQdRep HQdRep99ANI  HQSpRep  ...  \\\n",
       "0      1451127   1451127.0  1083HQ  183_0       183_0  SPREPHQ  ...   \n",
       "\n",
       "                                         SILVA138Tax  SIdentity  SAlnLgth  \\\n",
       "0  JX983997.1.1289 Bacteria;Dependentiae;Babeliae...       89.9    1293.0   \n",
       "\n",
       "      ilmcov      npcov  max_abund mm27f mm534r  ttl_polymorphic_rate  \\\n",
       "0  10.876333  10.614671    0.17912   1.0    0.0               0.00164   \n",
       "\n",
       "   polymut_rate  \n",
       "0       0.00052  \n",
       "\n",
       "[1 rows x 30 columns]"
      ]
     },
     "execution_count": 5,
     "metadata": {},
     "output_type": "execute_result"
    }
   ],
   "source": [
    "# Load supplementary materials\n",
    "## ImportError: Missing optional dependency 'openpyxl'.  Use pip or conda to install openpyxl.\n",
    "## Install with: mamba install openpyxl\n",
    "df_MAGs = pd.read_excel(os.path.join(data, \"41467_2021_22203_MOESM5_ESM.xlsx\"), skiprows=1)\n",
    "df_MAGs.head(1)"
   ]
  },
  {
   "cell_type": "code",
   "execution_count": 6,
   "id": "74ee37d5-2274-4623-9e7d-e3b6adc57b76",
   "metadata": {},
   "outputs": [
    {
     "data": {
      "text/plain": [
       "Index(['MAG', 'NCBI_accession_number', 'NumContigs', 'TotBP', 'MaxContigBP',\n",
       "       'AvContigBP', 'HQMAG', 'HQdRep', 'HQdRep99ANI', 'HQSpRep', 'Comp',\n",
       "       'Cont', 'StrHet', 'Circ', 'FLSSU', 'FLLSU', 'GTDBTax', 'MiDAS3_7Tax',\n",
       "       'MIdentity', 'MAlnLgth', 'SILVA138Tax', 'SIdentity', 'SAlnLgth',\n",
       "       'ilmcov', 'npcov', 'max_abund', 'mm27f', 'mm534r',\n",
       "       'ttl_polymorphic_rate', 'polymut_rate'],\n",
       "      dtype='object')"
      ]
     },
     "execution_count": 6,
     "metadata": {},
     "output_type": "execute_result"
    }
   ],
   "source": [
    "# What columns are available?\n",
    "df_MAGs.columns"
   ]
  },
  {
   "cell_type": "markdown",
   "id": "b5ecc58e-e93e-4525-9137-14e8d782fe63",
   "metadata": {},
   "source": [
    "## Map to BioProject</a><a class=\"anchor\" id=\"map-to-bioproject\">\n",
    "From the table above, we can see that it contains NCBI accession number, but we want the assembly ids (refseq or genbank). We can grab the information from bioproject. The easiest way is to go to https://www.ncbi.nlm.nih.gov/bioproject/prjna629478 and download the assembly details."
   ]
  },
  {
   "cell_type": "code",
   "execution_count": 7,
   "id": "8c47e01c-9f81-41d0-9565-bb87768099bf",
   "metadata": {},
   "outputs": [
    {
     "data": {
      "text/html": [
       "<div>\n",
       "<style scoped>\n",
       "    .dataframe tbody tr th:only-of-type {\n",
       "        vertical-align: middle;\n",
       "    }\n",
       "\n",
       "    .dataframe tbody tr th {\n",
       "        vertical-align: top;\n",
       "    }\n",
       "\n",
       "    .dataframe thead th {\n",
       "        text-align: right;\n",
       "    }\n",
       "</style>\n",
       "<table border=\"1\" class=\"dataframe\">\n",
       "  <thead>\n",
       "    <tr style=\"text-align: right;\">\n",
       "      <th></th>\n",
       "      <th># Assembly</th>\n",
       "      <th>Level</th>\n",
       "      <th>WGS</th>\n",
       "      <th>Chrs</th>\n",
       "      <th>BioSample</th>\n",
       "      <th>Isolate</th>\n",
       "      <th>Taxonomy</th>\n",
       "    </tr>\n",
       "  </thead>\n",
       "  <tbody>\n",
       "    <tr>\n",
       "      <th>0</th>\n",
       "      <td>GCA_016722025.1</td>\n",
       "      <td>Contig</td>\n",
       "      <td>JADKGZ000000000</td>\n",
       "      <td>undefined</td>\n",
       "      <td>SAMN16426458</td>\n",
       "      <td>Skiv_18-Q3-R9-52_BAT3C.106</td>\n",
       "      <td>Acidimicrobiaceae bacterium</td>\n",
       "    </tr>\n",
       "  </tbody>\n",
       "</table>\n",
       "</div>"
      ],
      "text/plain": [
       "        # Assembly   Level              WGS       Chrs     BioSample  \\\n",
       "0  GCA_016722025.1  Contig  JADKGZ000000000  undefined  SAMN16426458   \n",
       "\n",
       "                      Isolate                     Taxonomy  \n",
       "0  Skiv_18-Q3-R9-52_BAT3C.106  Acidimicrobiaceae bacterium  "
      ]
     },
     "execution_count": 7,
     "metadata": {},
     "output_type": "execute_result"
    }
   ],
   "source": [
    "df_bioproject = pd.read_csv(os.path.join(data, \"PRJNA629478_AssemblyDetails.txt\"), skiprows=1, sep=\"\\t\", index_col=False)\n",
    "df_bioproject.head(1)"
   ]
  },
  {
   "cell_type": "code",
   "execution_count": 8,
   "id": "14a58b3e-2056-4e8d-9e3f-4b28ff564a79",
   "metadata": {},
   "outputs": [
    {
     "data": {
      "text/plain": [
       "(1083, 7)"
      ]
     },
     "execution_count": 8,
     "metadata": {},
     "output_type": "execute_result"
    }
   ],
   "source": [
    "df_bioproject.shape"
   ]
  },
  {
   "cell_type": "markdown",
   "id": "f339a32a-bec2-47e4-a7ab-66431e03a775",
   "metadata": {},
   "source": [
    "Looking at the structure, we can map the two tables using Isolate name in df_bioproject and MAG in df_MAGs:"
   ]
  },
  {
   "cell_type": "code",
   "execution_count": 9,
   "id": "a782d59c-808a-41a3-a349-ed77a0d671c4",
   "metadata": {},
   "outputs": [
    {
     "data": {
      "text/html": [
       "<div>\n",
       "<style scoped>\n",
       "    .dataframe tbody tr th:only-of-type {\n",
       "        vertical-align: middle;\n",
       "    }\n",
       "\n",
       "    .dataframe tbody tr th {\n",
       "        vertical-align: top;\n",
       "    }\n",
       "\n",
       "    .dataframe thead th {\n",
       "        text-align: right;\n",
       "    }\n",
       "</style>\n",
       "<table border=\"1\" class=\"dataframe\">\n",
       "  <thead>\n",
       "    <tr style=\"text-align: right;\">\n",
       "      <th></th>\n",
       "      <th>MAG</th>\n",
       "      <th>NCBI_accession_number</th>\n",
       "      <th>NumContigs</th>\n",
       "      <th>TotBP</th>\n",
       "      <th>MaxContigBP</th>\n",
       "      <th>AvContigBP</th>\n",
       "      <th>HQMAG</th>\n",
       "      <th>HQdRep</th>\n",
       "      <th>HQdRep99ANI</th>\n",
       "      <th>HQSpRep</th>\n",
       "      <th>...</th>\n",
       "      <th>SIdentity</th>\n",
       "      <th>SAlnLgth</th>\n",
       "      <th>ilmcov</th>\n",
       "      <th>npcov</th>\n",
       "      <th>max_abund</th>\n",
       "      <th>mm27f</th>\n",
       "      <th>mm534r</th>\n",
       "      <th>ttl_polymorphic_rate</th>\n",
       "      <th>polymut_rate</th>\n",
       "      <th>Isolate</th>\n",
       "    </tr>\n",
       "  </thead>\n",
       "  <tbody>\n",
       "    <tr>\n",
       "      <th>0</th>\n",
       "      <td>AalE_18-Q3-R2-46_BAT3C.1_cln.fa</td>\n",
       "      <td>CP064957</td>\n",
       "      <td>1</td>\n",
       "      <td>1451127</td>\n",
       "      <td>1451127</td>\n",
       "      <td>1451127.0</td>\n",
       "      <td>1083HQ</td>\n",
       "      <td>183_0</td>\n",
       "      <td>183_0</td>\n",
       "      <td>SPREPHQ</td>\n",
       "      <td>...</td>\n",
       "      <td>89.9</td>\n",
       "      <td>1293.0</td>\n",
       "      <td>10.876333</td>\n",
       "      <td>10.614671</td>\n",
       "      <td>0.17912</td>\n",
       "      <td>1.0</td>\n",
       "      <td>0.0</td>\n",
       "      <td>0.00164</td>\n",
       "      <td>0.00052</td>\n",
       "      <td>AalE_18-Q3-R2-46_BAT3C.1_cln</td>\n",
       "    </tr>\n",
       "  </tbody>\n",
       "</table>\n",
       "<p>1 rows × 31 columns</p>\n",
       "</div>"
      ],
      "text/plain": [
       "                               MAG NCBI_accession_number  NumContigs    TotBP  \\\n",
       "0  AalE_18-Q3-R2-46_BAT3C.1_cln.fa            CP064957             1  1451127   \n",
       "\n",
       "   MaxContigBP  AvContigBP   HQMAG HQdRep HQdRep99ANI  HQSpRep  ...  \\\n",
       "0      1451127   1451127.0  1083HQ  183_0       183_0  SPREPHQ  ...   \n",
       "\n",
       "   SIdentity  SAlnLgth     ilmcov      npcov  max_abund  mm27f mm534r  \\\n",
       "0       89.9    1293.0  10.876333  10.614671    0.17912    1.0    0.0   \n",
       "\n",
       "  ttl_polymorphic_rate  polymut_rate                       Isolate  \n",
       "0              0.00164       0.00052  AalE_18-Q3-R2-46_BAT3C.1_cln  \n",
       "\n",
       "[1 rows x 31 columns]"
      ]
     },
     "execution_count": 9,
     "metadata": {},
     "output_type": "execute_result"
    }
   ],
   "source": [
    "df_MAGs.loc[:, \"Isolate\"] = [b.strip(\".fa\") for b in df_MAGs.MAG]\n",
    "df_MAGs.head(1)"
   ]
  },
  {
   "cell_type": "code",
   "execution_count": 10,
   "id": "6e317ca7-e2f2-4de9-9cff-9fc6d790cd39",
   "metadata": {},
   "outputs": [],
   "source": [
    "df_MAGs_bioproject = pd.merge(df_MAGs, df_bioproject, on='Isolate')"
   ]
  },
  {
   "cell_type": "code",
   "execution_count": 11,
   "id": "201df9fc-db66-4412-91d7-f4be05de896d",
   "metadata": {},
   "outputs": [
    {
     "data": {
      "text/plain": [
       "Index(['MAG', 'NCBI_accession_number', 'NumContigs', 'TotBP', 'MaxContigBP',\n",
       "       'AvContigBP', 'HQMAG', 'HQdRep', 'HQdRep99ANI', 'HQSpRep', 'Comp',\n",
       "       'Cont', 'StrHet', 'Circ', 'FLSSU', 'FLLSU', 'GTDBTax', 'MiDAS3_7Tax',\n",
       "       'MIdentity', 'MAlnLgth', 'SILVA138Tax', 'SIdentity', 'SAlnLgth',\n",
       "       'ilmcov', 'npcov', 'max_abund', 'mm27f', 'mm534r',\n",
       "       'ttl_polymorphic_rate', 'polymut_rate', 'Isolate', '# Assembly',\n",
       "       'Level', 'WGS', 'Chrs', 'BioSample', 'Taxonomy'],\n",
       "      dtype='object')"
      ]
     },
     "execution_count": 11,
     "metadata": {},
     "output_type": "execute_result"
    }
   ],
   "source": [
    "## Format to BGCflow input\n",
    "df_MAGs_bioproject.columns"
   ]
  },
  {
   "cell_type": "code",
   "execution_count": 12,
   "id": "9e9f051a-a69b-4e0a-831c-0c744aefe61b",
   "metadata": {},
   "outputs": [
    {
     "data": {
      "text/html": [
       "<div>\n",
       "<style scoped>\n",
       "    .dataframe tbody tr th:only-of-type {\n",
       "        vertical-align: middle;\n",
       "    }\n",
       "\n",
       "    .dataframe tbody tr th {\n",
       "        vertical-align: top;\n",
       "    }\n",
       "\n",
       "    .dataframe thead th {\n",
       "        text-align: right;\n",
       "    }\n",
       "</style>\n",
       "<table border=\"1\" class=\"dataframe\">\n",
       "  <thead>\n",
       "    <tr style=\"text-align: right;\">\n",
       "      <th></th>\n",
       "      <th>MAG</th>\n",
       "      <th>NCBI_accession_number</th>\n",
       "      <th>NumContigs</th>\n",
       "      <th>TotBP</th>\n",
       "      <th>MaxContigBP</th>\n",
       "      <th>AvContigBP</th>\n",
       "      <th>HQMAG</th>\n",
       "      <th>HQdRep</th>\n",
       "      <th>HQdRep99ANI</th>\n",
       "      <th>HQSpRep</th>\n",
       "      <th>...</th>\n",
       "      <th>mm534r</th>\n",
       "      <th>ttl_polymorphic_rate</th>\n",
       "      <th>polymut_rate</th>\n",
       "      <th>Isolate</th>\n",
       "      <th>genome_id</th>\n",
       "      <th>Level</th>\n",
       "      <th>WGS</th>\n",
       "      <th>Chrs</th>\n",
       "      <th>BioSample</th>\n",
       "      <th>Taxonomy</th>\n",
       "    </tr>\n",
       "    <tr>\n",
       "      <th>genome_id</th>\n",
       "      <th></th>\n",
       "      <th></th>\n",
       "      <th></th>\n",
       "      <th></th>\n",
       "      <th></th>\n",
       "      <th></th>\n",
       "      <th></th>\n",
       "      <th></th>\n",
       "      <th></th>\n",
       "      <th></th>\n",
       "      <th></th>\n",
       "      <th></th>\n",
       "      <th></th>\n",
       "      <th></th>\n",
       "      <th></th>\n",
       "      <th></th>\n",
       "      <th></th>\n",
       "      <th></th>\n",
       "      <th></th>\n",
       "      <th></th>\n",
       "      <th></th>\n",
       "    </tr>\n",
       "  </thead>\n",
       "  <tbody>\n",
       "    <tr>\n",
       "      <th>GCA_016699045.1</th>\n",
       "      <td>AalE_18-Q3-R2-46_BAT3C.1_cln.fa</td>\n",
       "      <td>CP064957</td>\n",
       "      <td>1</td>\n",
       "      <td>1451127</td>\n",
       "      <td>1451127</td>\n",
       "      <td>1451127.0</td>\n",
       "      <td>1083HQ</td>\n",
       "      <td>183_0</td>\n",
       "      <td>183_0</td>\n",
       "      <td>SPREPHQ</td>\n",
       "      <td>...</td>\n",
       "      <td>0.0</td>\n",
       "      <td>0.00164</td>\n",
       "      <td>0.00052</td>\n",
       "      <td>AalE_18-Q3-R2-46_BAT3C.1_cln</td>\n",
       "      <td>GCA_016699045.1</td>\n",
       "      <td>Complete genome</td>\n",
       "      <td>undefined</td>\n",
       "      <td>1</td>\n",
       "      <td>SAMN16425488</td>\n",
       "      <td>bacterium</td>\n",
       "    </tr>\n",
       "  </tbody>\n",
       "</table>\n",
       "<p>1 rows × 37 columns</p>\n",
       "</div>"
      ],
      "text/plain": [
       "                                             MAG NCBI_accession_number  \\\n",
       "genome_id                                                                \n",
       "GCA_016699045.1  AalE_18-Q3-R2-46_BAT3C.1_cln.fa            CP064957     \n",
       "\n",
       "                 NumContigs    TotBP  MaxContigBP  AvContigBP   HQMAG HQdRep  \\\n",
       "genome_id                                                                      \n",
       "GCA_016699045.1           1  1451127      1451127   1451127.0  1083HQ  183_0   \n",
       "\n",
       "                HQdRep99ANI  HQSpRep  ...  mm534r  ttl_polymorphic_rate  \\\n",
       "genome_id                             ...                                 \n",
       "GCA_016699045.1       183_0  SPREPHQ  ...     0.0               0.00164   \n",
       "\n",
       "                 polymut_rate                       Isolate        genome_id  \\\n",
       "genome_id                                                                      \n",
       "GCA_016699045.1       0.00052  AalE_18-Q3-R2-46_BAT3C.1_cln  GCA_016699045.1   \n",
       "\n",
       "                           Level        WGS Chrs     BioSample   Taxonomy  \n",
       "genome_id                                                                  \n",
       "GCA_016699045.1  Complete genome  undefined    1  SAMN16425488  bacterium  \n",
       "\n",
       "[1 rows x 37 columns]"
      ]
     },
     "execution_count": 12,
     "metadata": {},
     "output_type": "execute_result"
    }
   ],
   "source": [
    "# Clean \n",
    "df_MAGs_bioproject = df_MAGs_bioproject.rename(columns={'# Assembly' : 'genome_id'})\n",
    "df_MAGs_bioproject = df_MAGs_bioproject.set_index(\"genome_id\", drop=False)\n",
    "df_MAGs_bioproject.to_csv(\"../tables/df_MAGs_bioproject.csv\", index=False)\n",
    "df_MAGs_bioproject.head(1)"
   ]
  },
  {
   "cell_type": "code",
   "execution_count": 13,
   "id": "fe88510d-0146-46f8-83bd-92058ff5f656",
   "metadata": {},
   "outputs": [
    {
     "data": {
      "text/html": [
       "<div>\n",
       "<style scoped>\n",
       "    .dataframe tbody tr th:only-of-type {\n",
       "        vertical-align: middle;\n",
       "    }\n",
       "\n",
       "    .dataframe tbody tr th {\n",
       "        vertical-align: top;\n",
       "    }\n",
       "\n",
       "    .dataframe thead th {\n",
       "        text-align: right;\n",
       "    }\n",
       "</style>\n",
       "<table border=\"1\" class=\"dataframe\">\n",
       "  <thead>\n",
       "    <tr style=\"text-align: right;\">\n",
       "      <th></th>\n",
       "      <th>genome_id</th>\n",
       "      <th>source</th>\n",
       "      <th>organism</th>\n",
       "      <th>domain</th>\n",
       "      <th>phylum</th>\n",
       "      <th>class</th>\n",
       "      <th>order</th>\n",
       "      <th>family</th>\n",
       "      <th>genus</th>\n",
       "      <th>species</th>\n",
       "      <th>strain</th>\n",
       "      <th>closest_placement_reference</th>\n",
       "    </tr>\n",
       "  </thead>\n",
       "  <tbody>\n",
       "    <tr>\n",
       "      <th>GCA_016699045.1</th>\n",
       "      <td>GCA_016699045.1</td>\n",
       "      <td>ncbi</td>\n",
       "      <td></td>\n",
       "      <td>Bacteria</td>\n",
       "      <td>Dependentiae</td>\n",
       "      <td>Babeliae</td>\n",
       "      <td>Babeliales</td>\n",
       "      <td>RVW-14</td>\n",
       "      <td></td>\n",
       "      <td></td>\n",
       "      <td>NaN</td>\n",
       "      <td>NaN</td>\n",
       "    </tr>\n",
       "  </tbody>\n",
       "</table>\n",
       "</div>"
      ],
      "text/plain": [
       "                       genome_id source organism    domain        phylum  \\\n",
       "GCA_016699045.1  GCA_016699045.1   ncbi           Bacteria  Dependentiae   \n",
       "\n",
       "                    class       order  family genus species  strain  \\\n",
       "GCA_016699045.1  Babeliae  Babeliales  RVW-14                   NaN   \n",
       "\n",
       "                 closest_placement_reference  \n",
       "GCA_016699045.1                          NaN  "
      ]
     },
     "execution_count": 13,
     "metadata": {},
     "output_type": "execute_result"
    }
   ],
   "source": [
    "# Format into bgcflow input table\n",
    "df_MAGs_bgcflow = format_bgcflow(get_gtdb_tax(df_MAGs_bioproject[\"GTDBTax\"]), os.path.join(tables, \"df_MAGs_bgcflow.csv\"))\n",
    "df_MAGs_bgcflow.head(1)"
   ]
  },
  {
   "cell_type": "markdown",
   "id": "181d8855-5c34-4254-8f40-a78723cc6d9b",
   "metadata": {},
   "source": [
    "## Filtering for Myxococcales </a><a class=\"anchor\" id=\"myxo-filter-mags\"></a>"
   ]
  },
  {
   "cell_type": "code",
   "execution_count": 14,
   "id": "3af8d520-336c-449b-8485-17ab1fb13de4",
   "metadata": {},
   "outputs": [
    {
     "data": {
      "text/plain": [
       "(45, 37)"
      ]
     },
     "execution_count": 14,
     "metadata": {},
     "output_type": "execute_result"
    }
   ],
   "source": [
    "df_p__Myxococcota_MAGs = df_MAGs_bioproject[df_MAGs_bioproject.loc[:, \"GTDBTax\"].str.contains(\"p__Myxococcota\")]\n",
    "df_p__Myxococcota_MAGs.shape"
   ]
  },
  {
   "cell_type": "code",
   "execution_count": 15,
   "id": "6688f985-861b-4aad-a26b-a754d8722bff",
   "metadata": {},
   "outputs": [
    {
     "data": {
      "text/plain": [
       "array(['d__Bacteria;p__Myxococcota;c__Polyangia;o__Polyangiales;f__Polyangiaceae;g__;s__',\n",
       "       'd__Bacteria;p__Myxococcota;c__Polyangia;o__Polyangiales;f__Ga0077539;g__;s__',\n",
       "       'd__Bacteria;p__Myxococcota;c__Polyangia;o__Polyangiales;f__SG8-38;g__;s__',\n",
       "       'd__Bacteria;p__Myxococcota;c__UBA727;o__;f__;g__;s__',\n",
       "       'd__Bacteria;p__Myxococcota;c__Polyangia;o__GCA-2747355;f__GCA-2747355;g__;s__',\n",
       "       'd__Bacteria;p__Myxococcota;c__Polyangia;o__Nannocystales;f__Nannocystaceae;g__Ga0077550;s__',\n",
       "       'd__Bacteria;p__Myxococcota;c__Polyangia;o__Haliangiales;f__Haliangiaceae;g__UBA2376;s__',\n",
       "       'd__Bacteria;p__Myxococcota;c__UBA796;o__UBA796;f__;g__;s__',\n",
       "       'd__Bacteria;p__Myxococcota;c__Polyangia;o__Haliangiales;f__Haliangiaceae;g__;s__',\n",
       "       'd__Bacteria;p__Myxococcota;c__Polyangia;o__Polyangiales;f__;g__;s__',\n",
       "       'd__Bacteria;p__Myxococcota;c__Polyangia;o__Nannocystales;f__Nannocystaceae;g__Nannocystis;s__',\n",
       "       'd__Bacteria;p__Myxococcota;c__Myxococcia;o__Myxococcales;f__Myxococcaceae;g__;s__',\n",
       "       'd__Bacteria;p__Myxococcota;c__UBA9160;o__UBA9160;f__UBA4427;g__;s__',\n",
       "       'd__Bacteria;p__Myxococcota;c__Polyangia;o__Polyangiales;f__Sandaracinaceae;g__;s__',\n",
       "       'd__Bacteria;p__Myxococcota;c__Myxococcia;o__Myxococcales;f__Anaeromyxobacteraceae;g__Anaeromyxobacter;s__'],\n",
       "      dtype=object)"
      ]
     },
     "execution_count": 15,
     "metadata": {},
     "output_type": "execute_result"
    }
   ],
   "source": [
    "df_p__Myxococcota_MAGs.loc[:, \"GTDBTax\"].unique()"
   ]
  },
  {
   "cell_type": "code",
   "execution_count": 16,
   "id": "acffc961-1277-470f-a6f5-a281442cf887",
   "metadata": {},
   "outputs": [
    {
     "data": {
      "text/html": [
       "<div>\n",
       "<style scoped>\n",
       "    .dataframe tbody tr th:only-of-type {\n",
       "        vertical-align: middle;\n",
       "    }\n",
       "\n",
       "    .dataframe tbody tr th {\n",
       "        vertical-align: top;\n",
       "    }\n",
       "\n",
       "    .dataframe thead th {\n",
       "        text-align: right;\n",
       "    }\n",
       "</style>\n",
       "<table border=\"1\" class=\"dataframe\">\n",
       "  <thead>\n",
       "    <tr style=\"text-align: right;\">\n",
       "      <th></th>\n",
       "      <th>genome_id</th>\n",
       "      <th>source</th>\n",
       "      <th>organism</th>\n",
       "      <th>domain</th>\n",
       "      <th>phylum</th>\n",
       "      <th>class</th>\n",
       "      <th>order</th>\n",
       "      <th>family</th>\n",
       "      <th>genus</th>\n",
       "      <th>species</th>\n",
       "      <th>strain</th>\n",
       "      <th>closest_placement_reference</th>\n",
       "    </tr>\n",
       "  </thead>\n",
       "  <tbody>\n",
       "    <tr>\n",
       "      <th>GCA_016704525.1</th>\n",
       "      <td>GCA_016704525.1</td>\n",
       "      <td>ncbi</td>\n",
       "      <td></td>\n",
       "      <td>Bacteria</td>\n",
       "      <td>Myxococcota</td>\n",
       "      <td>Polyangia</td>\n",
       "      <td>Polyangiales</td>\n",
       "      <td>Polyangiaceae</td>\n",
       "      <td></td>\n",
       "      <td></td>\n",
       "      <td>NaN</td>\n",
       "      <td>NaN</td>\n",
       "    </tr>\n",
       "  </tbody>\n",
       "</table>\n",
       "</div>"
      ],
      "text/plain": [
       "                       genome_id source organism    domain       phylum  \\\n",
       "GCA_016704525.1  GCA_016704525.1   ncbi           Bacteria  Myxococcota   \n",
       "\n",
       "                     class         order         family genus species  strain  \\\n",
       "GCA_016704525.1  Polyangia  Polyangiales  Polyangiaceae                   NaN   \n",
       "\n",
       "                 closest_placement_reference  \n",
       "GCA_016704525.1                          NaN  "
      ]
     },
     "execution_count": 16,
     "metadata": {},
     "output_type": "execute_result"
    }
   ],
   "source": [
    "format_bgcflow(get_gtdb_tax(df_p__Myxococcota_MAGs[\"GTDBTax\"]), os.path.join(tables, \"p__Myxococcota_MAGs.csv\")).head(1)"
   ]
  },
  {
   "cell_type": "markdown",
   "id": "e96de7a0-976c-48ec-b43e-a91ced6f269e",
   "metadata": {},
   "source": [
    "## Filtering for Nitrospira </a><a class=\"anchor\" id=\"nitro-filter-mags\"></a>"
   ]
  },
  {
   "cell_type": "code",
   "execution_count": 17,
   "id": "3b7614b1-858f-4bef-8ed6-e5f014d20a9a",
   "metadata": {},
   "outputs": [
    {
     "data": {
      "text/plain": [
       "(8, 37)"
      ]
     },
     "execution_count": 17,
     "metadata": {},
     "output_type": "execute_result"
    }
   ],
   "source": [
    "df_f__Nitrospiraceae_MAGs = df_MAGs_bioproject[df_MAGs_bioproject.loc[:, \"GTDBTax\"].str.contains(\"f__Nitrospiraceae\")]\n",
    "df_f__Nitrospiraceae_MAGs.shape"
   ]
  },
  {
   "cell_type": "code",
   "execution_count": 18,
   "id": "e3566c9e-b327-4cf7-b0ae-b7ec6b1c7bff",
   "metadata": {},
   "outputs": [
    {
     "data": {
      "text/plain": [
       "array(['d__Bacteria;p__Nitrospirota;c__Nitrospiria;o__Nitrospirales;f__Nitrospiraceae;g__Nitrospira_A;s__Nitrospira_A sp900170025',\n",
       "       'd__Bacteria;p__Nitrospirota;c__Nitrospiria;o__Nitrospirales;f__Nitrospiraceae;g__Nitrospira;s__Nitrospira sp002254365',\n",
       "       'd__Bacteria;p__Nitrospirota;c__Nitrospiria;o__Nitrospirales;f__Nitrospiraceae;g__Nitrospira;s__'],\n",
       "      dtype=object)"
      ]
     },
     "execution_count": 18,
     "metadata": {},
     "output_type": "execute_result"
    }
   ],
   "source": [
    "df_f__Nitrospiraceae_MAGs.loc[:, \"GTDBTax\"].unique()"
   ]
  },
  {
   "cell_type": "code",
   "execution_count": 19,
   "id": "a1f3e274-71d9-4c65-9402-fdec1f701836",
   "metadata": {},
   "outputs": [],
   "source": [
    "df_f__Nitrospiraceae_MAGs = format_bgcflow(get_gtdb_tax(df_f__Nitrospiraceae_MAGs[\"GTDBTax\"]), os.path.join(tables, \"f__Nitrospiraceae_MAGs.csv\"))"
   ]
  },
  {
   "cell_type": "markdown",
   "id": "279578de-86b0-4af8-b91c-cb8563a593e0",
   "metadata": {},
   "source": [
    "# Getting genome assembly accession id from GTDB\n",
    "If you hadn't done so, download the taxonomy mapping from the latest GTDB release:"
   ]
  },
  {
   "cell_type": "code",
   "execution_count": 20,
   "id": "db20d69b-8808-479f-b2e2-c390c88833b2",
   "metadata": {},
   "outputs": [
    {
     "name": "stdout",
     "output_type": "stream",
     "text": [
      "File ‘../data/bac120_taxonomy_r202.tsv’ already there; not retrieving.\n",
      "\n"
     ]
    }
   ],
   "source": [
    "# Download bacteria taxonomy from release 202\n",
    "! wget -P {data} https://data.gtdb.ecogenomic.org/releases/release202/202.0/bac120_taxonomy_r202.tsv -nc"
   ]
  },
  {
   "cell_type": "code",
   "execution_count": 21,
   "id": "dd0076f0-7c6d-4f0d-a3ee-fa81410d9290",
   "metadata": {},
   "outputs": [
    {
     "data": {
      "text/html": [
       "<div>\n",
       "<style scoped>\n",
       "    .dataframe tbody tr th:only-of-type {\n",
       "        vertical-align: middle;\n",
       "    }\n",
       "\n",
       "    .dataframe tbody tr th {\n",
       "        vertical-align: top;\n",
       "    }\n",
       "\n",
       "    .dataframe thead th {\n",
       "        text-align: right;\n",
       "    }\n",
       "</style>\n",
       "<table border=\"1\" class=\"dataframe\">\n",
       "  <thead>\n",
       "    <tr style=\"text-align: right;\">\n",
       "      <th></th>\n",
       "      <th>domain</th>\n",
       "      <th>phylum</th>\n",
       "      <th>class</th>\n",
       "      <th>order</th>\n",
       "      <th>family</th>\n",
       "      <th>genus</th>\n",
       "      <th>species</th>\n",
       "    </tr>\n",
       "  </thead>\n",
       "  <tbody>\n",
       "    <tr>\n",
       "      <th>GCF_014075335.1</th>\n",
       "      <td>d__Bacteria</td>\n",
       "      <td>p__Proteobacteria</td>\n",
       "      <td>c__Gammaproteobacteria</td>\n",
       "      <td>o__Enterobacterales</td>\n",
       "      <td>f__Enterobacteriaceae</td>\n",
       "      <td>g__Escherichia</td>\n",
       "      <td>s__Escherichia flexneri</td>\n",
       "    </tr>\n",
       "  </tbody>\n",
       "</table>\n",
       "</div>"
      ],
      "text/plain": [
       "                      domain             phylum                   class  \\\n",
       "GCF_014075335.1  d__Bacteria  p__Proteobacteria  c__Gammaproteobacteria   \n",
       "\n",
       "                               order                 family           genus  \\\n",
       "GCF_014075335.1  o__Enterobacterales  f__Enterobacteriaceae  g__Escherichia   \n",
       "\n",
       "                                 species  \n",
       "GCF_014075335.1  s__Escherichia flexneri  "
      ]
     },
     "execution_count": 21,
     "metadata": {},
     "output_type": "execute_result"
    }
   ],
   "source": [
    "df = pd.read_csv(os.path.join(data, \"bac120_taxonomy_r202.tsv\"), sep=\"\\t\", header=None, index_col=0)\n",
    "df.index = [i.split(\"_\",1)[-1] for i in df.index]\n",
    "# Clean the file\n",
    "df_tax = get_gtdb_tax(df[1])\n",
    "df_tax.head(1)"
   ]
  },
  {
   "cell_type": "markdown",
   "id": "d97e10d2-3f7e-4cb6-b34a-3ad7778ee65d",
   "metadata": {},
   "source": [
    "### Filtering for Myxococcales"
   ]
  },
  {
   "cell_type": "code",
   "execution_count": 22,
   "id": "39149608-f369-4dac-9c29-fdf83887c0f3",
   "metadata": {},
   "outputs": [
    {
     "data": {
      "text/plain": [
       "(150, 7)"
      ]
     },
     "execution_count": 22,
     "metadata": {},
     "output_type": "execute_result"
    }
   ],
   "source": [
    "# filter for Myxococcales\n",
    "df_o__Myxococcales = df_tax[df_tax.loc[:, \"order\"] == \"o__Myxococcales\"]\n",
    "df_o__Myxococcales.shape"
   ]
  },
  {
   "cell_type": "code",
   "execution_count": 23,
   "id": "2b993161-9d66-4be5-b12c-8f7db5c9fa5f",
   "metadata": {},
   "outputs": [
    {
     "data": {
      "text/html": [
       "<div>\n",
       "<style scoped>\n",
       "    .dataframe tbody tr th:only-of-type {\n",
       "        vertical-align: middle;\n",
       "    }\n",
       "\n",
       "    .dataframe tbody tr th {\n",
       "        vertical-align: top;\n",
       "    }\n",
       "\n",
       "    .dataframe thead th {\n",
       "        text-align: right;\n",
       "    }\n",
       "</style>\n",
       "<table border=\"1\" class=\"dataframe\">\n",
       "  <thead>\n",
       "    <tr style=\"text-align: right;\">\n",
       "      <th></th>\n",
       "      <th>genome_id</th>\n",
       "      <th>source</th>\n",
       "      <th>organism</th>\n",
       "      <th>domain</th>\n",
       "      <th>phylum</th>\n",
       "      <th>class</th>\n",
       "      <th>order</th>\n",
       "      <th>family</th>\n",
       "      <th>genus</th>\n",
       "      <th>species</th>\n",
       "      <th>strain</th>\n",
       "      <th>closest_placement_reference</th>\n",
       "    </tr>\n",
       "  </thead>\n",
       "  <tbody>\n",
       "    <tr>\n",
       "      <th>GCF_012985225.1</th>\n",
       "      <td>GCF_012985225.1</td>\n",
       "      <td>ncbi</td>\n",
       "      <td>Corallococcus exiguus</td>\n",
       "      <td>Bacteria</td>\n",
       "      <td>Myxococcota</td>\n",
       "      <td>Myxococcia</td>\n",
       "      <td>Myxococcales</td>\n",
       "      <td>Myxococcaceae</td>\n",
       "      <td>Corallococcus</td>\n",
       "      <td>exiguus</td>\n",
       "      <td>NaN</td>\n",
       "      <td>NaN</td>\n",
       "    </tr>\n",
       "    <tr>\n",
       "      <th>GCF_013155175.1</th>\n",
       "      <td>GCF_013155175.1</td>\n",
       "      <td>ncbi</td>\n",
       "      <td>Corallococcus exiguus</td>\n",
       "      <td>Bacteria</td>\n",
       "      <td>Myxococcota</td>\n",
       "      <td>Myxococcia</td>\n",
       "      <td>Myxococcales</td>\n",
       "      <td>Myxococcaceae</td>\n",
       "      <td>Corallococcus</td>\n",
       "      <td>exiguus</td>\n",
       "      <td>NaN</td>\n",
       "      <td>NaN</td>\n",
       "    </tr>\n",
       "    <tr>\n",
       "      <th>GCF_003668935.1</th>\n",
       "      <td>GCF_003668935.1</td>\n",
       "      <td>ncbi</td>\n",
       "      <td>Corallococcus exiguus</td>\n",
       "      <td>Bacteria</td>\n",
       "      <td>Myxococcota</td>\n",
       "      <td>Myxococcia</td>\n",
       "      <td>Myxococcales</td>\n",
       "      <td>Myxococcaceae</td>\n",
       "      <td>Corallococcus</td>\n",
       "      <td>exiguus</td>\n",
       "      <td>NaN</td>\n",
       "      <td>NaN</td>\n",
       "    </tr>\n",
       "    <tr>\n",
       "      <th>GCF_003668965.1</th>\n",
       "      <td>GCF_003668965.1</td>\n",
       "      <td>ncbi</td>\n",
       "      <td>Corallococcus exiguus</td>\n",
       "      <td>Bacteria</td>\n",
       "      <td>Myxococcota</td>\n",
       "      <td>Myxococcia</td>\n",
       "      <td>Myxococcales</td>\n",
       "      <td>Myxococcaceae</td>\n",
       "      <td>Corallococcus</td>\n",
       "      <td>exiguus</td>\n",
       "      <td>NaN</td>\n",
       "      <td>NaN</td>\n",
       "    </tr>\n",
       "    <tr>\n",
       "      <th>GCA_003612255.1</th>\n",
       "      <td>GCA_003612255.1</td>\n",
       "      <td>ncbi</td>\n",
       "      <td>Corallococcus exiguus</td>\n",
       "      <td>Bacteria</td>\n",
       "      <td>Myxococcota</td>\n",
       "      <td>Myxococcia</td>\n",
       "      <td>Myxococcales</td>\n",
       "      <td>Myxococcaceae</td>\n",
       "      <td>Corallococcus</td>\n",
       "      <td>exiguus</td>\n",
       "      <td>NaN</td>\n",
       "      <td>NaN</td>\n",
       "    </tr>\n",
       "    <tr>\n",
       "      <th>...</th>\n",
       "      <td>...</td>\n",
       "      <td>...</td>\n",
       "      <td>...</td>\n",
       "      <td>...</td>\n",
       "      <td>...</td>\n",
       "      <td>...</td>\n",
       "      <td>...</td>\n",
       "      <td>...</td>\n",
       "      <td>...</td>\n",
       "      <td>...</td>\n",
       "      <td>...</td>\n",
       "      <td>...</td>\n",
       "    </tr>\n",
       "    <tr>\n",
       "      <th>GCF_012933655.1</th>\n",
       "      <td>GCF_012933655.1</td>\n",
       "      <td>ncbi</td>\n",
       "      <td>Myxococcus fallax</td>\n",
       "      <td>Bacteria</td>\n",
       "      <td>Myxococcota</td>\n",
       "      <td>Myxococcia</td>\n",
       "      <td>Myxococcales</td>\n",
       "      <td>Myxococcaceae</td>\n",
       "      <td>Myxococcus</td>\n",
       "      <td>fallax</td>\n",
       "      <td>NaN</td>\n",
       "      <td>NaN</td>\n",
       "    </tr>\n",
       "    <tr>\n",
       "      <th>GCA_009781495.1</th>\n",
       "      <td>GCA_009781495.1</td>\n",
       "      <td>ncbi</td>\n",
       "      <td>WRKR01 sp009781495</td>\n",
       "      <td>Bacteria</td>\n",
       "      <td>Myxococcota</td>\n",
       "      <td>Myxococcia</td>\n",
       "      <td>Myxococcales</td>\n",
       "      <td>Myxococcaceae</td>\n",
       "      <td>WRKR01</td>\n",
       "      <td>sp009781495</td>\n",
       "      <td>NaN</td>\n",
       "      <td>NaN</td>\n",
       "    </tr>\n",
       "    <tr>\n",
       "      <th>GCF_003611695.1</th>\n",
       "      <td>GCF_003611695.1</td>\n",
       "      <td>ncbi</td>\n",
       "      <td>Corallococcus carmarthensis</td>\n",
       "      <td>Bacteria</td>\n",
       "      <td>Myxococcota</td>\n",
       "      <td>Myxococcia</td>\n",
       "      <td>Myxococcales</td>\n",
       "      <td>Myxococcaceae</td>\n",
       "      <td>Corallococcus</td>\n",
       "      <td>carmarthensis</td>\n",
       "      <td>NaN</td>\n",
       "      <td>NaN</td>\n",
       "    </tr>\n",
       "    <tr>\n",
       "      <th>GCA_001768075.1</th>\n",
       "      <td>GCA_001768075.1</td>\n",
       "      <td>ncbi</td>\n",
       "      <td>R267 sp001768075</td>\n",
       "      <td>Bacteria</td>\n",
       "      <td>Myxococcota</td>\n",
       "      <td>Myxococcia</td>\n",
       "      <td>Myxococcales</td>\n",
       "      <td>Anaeromyxobacteraceae</td>\n",
       "      <td>R267</td>\n",
       "      <td>sp001768075</td>\n",
       "      <td>NaN</td>\n",
       "      <td>NaN</td>\n",
       "    </tr>\n",
       "    <tr>\n",
       "      <th>GCA_903911905.1</th>\n",
       "      <td>GCA_903911905.1</td>\n",
       "      <td>ncbi</td>\n",
       "      <td>FEN-1143 sp903911905</td>\n",
       "      <td>Bacteria</td>\n",
       "      <td>Myxococcota</td>\n",
       "      <td>Myxococcia</td>\n",
       "      <td>Myxococcales</td>\n",
       "      <td>Myxococcaceae</td>\n",
       "      <td>FEN-1143</td>\n",
       "      <td>sp903911905</td>\n",
       "      <td>NaN</td>\n",
       "      <td>NaN</td>\n",
       "    </tr>\n",
       "  </tbody>\n",
       "</table>\n",
       "<p>150 rows × 12 columns</p>\n",
       "</div>"
      ],
      "text/plain": [
       "                       genome_id source                     organism  \\\n",
       "GCF_012985225.1  GCF_012985225.1   ncbi        Corallococcus exiguus   \n",
       "GCF_013155175.1  GCF_013155175.1   ncbi        Corallococcus exiguus   \n",
       "GCF_003668935.1  GCF_003668935.1   ncbi        Corallococcus exiguus   \n",
       "GCF_003668965.1  GCF_003668965.1   ncbi        Corallococcus exiguus   \n",
       "GCA_003612255.1  GCA_003612255.1   ncbi        Corallococcus exiguus   \n",
       "...                          ...    ...                          ...   \n",
       "GCF_012933655.1  GCF_012933655.1   ncbi            Myxococcus fallax   \n",
       "GCA_009781495.1  GCA_009781495.1   ncbi           WRKR01 sp009781495   \n",
       "GCF_003611695.1  GCF_003611695.1   ncbi  Corallococcus carmarthensis   \n",
       "GCA_001768075.1  GCA_001768075.1   ncbi             R267 sp001768075   \n",
       "GCA_903911905.1  GCA_903911905.1   ncbi         FEN-1143 sp903911905   \n",
       "\n",
       "                   domain       phylum       class         order  \\\n",
       "GCF_012985225.1  Bacteria  Myxococcota  Myxococcia  Myxococcales   \n",
       "GCF_013155175.1  Bacteria  Myxococcota  Myxococcia  Myxococcales   \n",
       "GCF_003668935.1  Bacteria  Myxococcota  Myxococcia  Myxococcales   \n",
       "GCF_003668965.1  Bacteria  Myxococcota  Myxococcia  Myxococcales   \n",
       "GCA_003612255.1  Bacteria  Myxococcota  Myxococcia  Myxococcales   \n",
       "...                   ...          ...         ...           ...   \n",
       "GCF_012933655.1  Bacteria  Myxococcota  Myxococcia  Myxococcales   \n",
       "GCA_009781495.1  Bacteria  Myxococcota  Myxococcia  Myxococcales   \n",
       "GCF_003611695.1  Bacteria  Myxococcota  Myxococcia  Myxococcales   \n",
       "GCA_001768075.1  Bacteria  Myxococcota  Myxococcia  Myxococcales   \n",
       "GCA_903911905.1  Bacteria  Myxococcota  Myxococcia  Myxococcales   \n",
       "\n",
       "                                family          genus        species  strain  \\\n",
       "GCF_012985225.1          Myxococcaceae  Corallococcus        exiguus     NaN   \n",
       "GCF_013155175.1          Myxococcaceae  Corallococcus        exiguus     NaN   \n",
       "GCF_003668935.1          Myxococcaceae  Corallococcus        exiguus     NaN   \n",
       "GCF_003668965.1          Myxococcaceae  Corallococcus        exiguus     NaN   \n",
       "GCA_003612255.1          Myxococcaceae  Corallococcus        exiguus     NaN   \n",
       "...                                ...            ...            ...     ...   \n",
       "GCF_012933655.1          Myxococcaceae     Myxococcus         fallax     NaN   \n",
       "GCA_009781495.1          Myxococcaceae         WRKR01    sp009781495     NaN   \n",
       "GCF_003611695.1          Myxococcaceae  Corallococcus  carmarthensis     NaN   \n",
       "GCA_001768075.1  Anaeromyxobacteraceae           R267    sp001768075     NaN   \n",
       "GCA_903911905.1          Myxococcaceae       FEN-1143    sp903911905     NaN   \n",
       "\n",
       "                 closest_placement_reference  \n",
       "GCF_012985225.1                          NaN  \n",
       "GCF_013155175.1                          NaN  \n",
       "GCF_003668935.1                          NaN  \n",
       "GCF_003668965.1                          NaN  \n",
       "GCA_003612255.1                          NaN  \n",
       "...                                      ...  \n",
       "GCF_012933655.1                          NaN  \n",
       "GCA_009781495.1                          NaN  \n",
       "GCF_003611695.1                          NaN  \n",
       "GCA_001768075.1                          NaN  \n",
       "GCA_903911905.1                          NaN  \n",
       "\n",
       "[150 rows x 12 columns]"
      ]
     },
     "execution_count": 23,
     "metadata": {},
     "output_type": "execute_result"
    }
   ],
   "source": [
    "# Generate sample file for BGCflow\n",
    "df_o__Myxococcales_gtdb = format_bgcflow(df_o__Myxococcales, os.path.join(tables, \"o__Myxococcales_gtdb.csv\"))\n",
    "df_o__Myxococcales_gtdb"
   ]
  },
  {
   "cell_type": "markdown",
   "id": "7f8b5cf0-4a53-455b-90cf-b648ce54e2e2",
   "metadata": {},
   "source": [
    "### Filtering for Nitrospira"
   ]
  },
  {
   "cell_type": "code",
   "execution_count": 24,
   "id": "91da27be-6fb2-4a75-857b-909ccfed235d",
   "metadata": {},
   "outputs": [
    {
     "data": {
      "text/plain": [
       "['g__Nitrospira_A',\n",
       " 'g__Nitrospira_F',\n",
       " 'g__Nitrospira_D',\n",
       " 'g__Nitrospira_C',\n",
       " 'g__Nitrospira_E']"
      ]
     },
     "execution_count": 24,
     "metadata": {},
     "output_type": "execute_result"
    }
   ],
   "source": [
    "g = df_tax.loc[:, \"genus\"].unique()\n",
    "[q for q in g if q.startswith(\"g__Nitrospira\")]"
   ]
  },
  {
   "cell_type": "code",
   "execution_count": 25,
   "id": "207b1d61-bf2c-41fb-9c77-b125b7c70d4c",
   "metadata": {},
   "outputs": [
    {
     "data": {
      "text/plain": [
       "['f__Nitrospiraceae']"
      ]
     },
     "execution_count": 25,
     "metadata": {},
     "output_type": "execute_result"
    }
   ],
   "source": [
    "f = df_tax.loc[:, \"family\"].unique()\n",
    "[q for q in f if q.startswith(\"f__Nitrospira\")]"
   ]
  },
  {
   "cell_type": "code",
   "execution_count": 26,
   "id": "e2ce8b73-6165-46c9-8b56-ab14de0432df",
   "metadata": {},
   "outputs": [
    {
     "data": {
      "text/plain": [
       "(129, 7)"
      ]
     },
     "execution_count": 26,
     "metadata": {},
     "output_type": "execute_result"
    }
   ],
   "source": [
    "df_f__Nitrospiraceae = df_tax[df_tax.loc[:, \"family\"] == \"f__Nitrospiraceae\"]\n",
    "df_f__Nitrospiraceae.shape"
   ]
  },
  {
   "cell_type": "code",
   "execution_count": 27,
   "id": "452c3e8c-7dc1-48cf-bf9c-7812a8c30b7f",
   "metadata": {},
   "outputs": [],
   "source": [
    "df_f__Nitrospiraceae_gtdb = format_bgcflow(df_f__Nitrospiraceae, os.path.join(tables, \"f__Nitrospiraceae_gtdb.csv\"))"
   ]
  },
  {
   "cell_type": "markdown",
   "id": "ed1a2e0e-63dd-4833-aaa0-24c7d3d6b2d5",
   "metadata": {},
   "source": [
    "## Merge Tables"
   ]
  },
  {
   "cell_type": "code",
   "execution_count": 28,
   "id": "eeedabbf-4b32-418d-9b83-86b896498f06",
   "metadata": {},
   "outputs": [],
   "source": [
    "df_f__Nitrospiraceae_all = pd.concat([df_f__Nitrospiraceae_gtdb, df_f__Nitrospiraceae_MAGs])\n",
    "df_f__Nitrospiraceae_all.to_csv(\"../tables/f__Nitrospiraceae_all.csv\")"
   ]
  },
  {
   "cell_type": "code",
   "execution_count": 29,
   "id": "5afabddd-c11d-4901-8338-b5ff48fbb380",
   "metadata": {},
   "outputs": [
    {
     "data": {
      "text/html": [
       "<div>\n",
       "<style scoped>\n",
       "    .dataframe tbody tr th:only-of-type {\n",
       "        vertical-align: middle;\n",
       "    }\n",
       "\n",
       "    .dataframe tbody tr th {\n",
       "        vertical-align: top;\n",
       "    }\n",
       "\n",
       "    .dataframe thead th {\n",
       "        text-align: right;\n",
       "    }\n",
       "</style>\n",
       "<table border=\"1\" class=\"dataframe\">\n",
       "  <thead>\n",
       "    <tr style=\"text-align: right;\">\n",
       "      <th></th>\n",
       "      <th>genome_id</th>\n",
       "      <th>source</th>\n",
       "      <th>organism</th>\n",
       "      <th>domain</th>\n",
       "      <th>phylum</th>\n",
       "      <th>class</th>\n",
       "      <th>order</th>\n",
       "      <th>family</th>\n",
       "      <th>genus</th>\n",
       "      <th>species</th>\n",
       "      <th>strain</th>\n",
       "      <th>closest_placement_reference</th>\n",
       "    </tr>\n",
       "  </thead>\n",
       "  <tbody>\n",
       "    <tr>\n",
       "      <th>GCA_001918505.1</th>\n",
       "      <td>GCA_001918505.1</td>\n",
       "      <td>ncbi</td>\n",
       "      <td>40CM-3-62-11 sp001914955</td>\n",
       "      <td>Bacteria</td>\n",
       "      <td>Nitrospirota</td>\n",
       "      <td>Nitrospiria</td>\n",
       "      <td>Nitrospirales</td>\n",
       "      <td>Nitrospiraceae</td>\n",
       "      <td>40CM-3-62-11</td>\n",
       "      <td>sp001914955</td>\n",
       "      <td>NaN</td>\n",
       "      <td>NaN</td>\n",
       "    </tr>\n",
       "    <tr>\n",
       "      <th>GCA_001920515.1</th>\n",
       "      <td>GCA_001920515.1</td>\n",
       "      <td>ncbi</td>\n",
       "      <td>40CM-3-62-11 sp001914955</td>\n",
       "      <td>Bacteria</td>\n",
       "      <td>Nitrospirota</td>\n",
       "      <td>Nitrospiria</td>\n",
       "      <td>Nitrospirales</td>\n",
       "      <td>Nitrospiraceae</td>\n",
       "      <td>40CM-3-62-11</td>\n",
       "      <td>sp001914955</td>\n",
       "      <td>NaN</td>\n",
       "      <td>NaN</td>\n",
       "    </tr>\n",
       "    <tr>\n",
       "      <th>GCA_001914545.1</th>\n",
       "      <td>GCA_001914545.1</td>\n",
       "      <td>ncbi</td>\n",
       "      <td>40CM-3-62-11 sp001914955</td>\n",
       "      <td>Bacteria</td>\n",
       "      <td>Nitrospirota</td>\n",
       "      <td>Nitrospiria</td>\n",
       "      <td>Nitrospirales</td>\n",
       "      <td>Nitrospiraceae</td>\n",
       "      <td>40CM-3-62-11</td>\n",
       "      <td>sp001914955</td>\n",
       "      <td>NaN</td>\n",
       "      <td>NaN</td>\n",
       "    </tr>\n",
       "    <tr>\n",
       "      <th>GCA_005877575.1</th>\n",
       "      <td>GCA_005877575.1</td>\n",
       "      <td>ncbi</td>\n",
       "      <td>40CM-3-62-11 sp001914955</td>\n",
       "      <td>Bacteria</td>\n",
       "      <td>Nitrospirota</td>\n",
       "      <td>Nitrospiria</td>\n",
       "      <td>Nitrospirales</td>\n",
       "      <td>Nitrospiraceae</td>\n",
       "      <td>40CM-3-62-11</td>\n",
       "      <td>sp001914955</td>\n",
       "      <td>NaN</td>\n",
       "      <td>NaN</td>\n",
       "    </tr>\n",
       "    <tr>\n",
       "      <th>GCA_005877605.1</th>\n",
       "      <td>GCA_005877605.1</td>\n",
       "      <td>ncbi</td>\n",
       "      <td>40CM-3-62-11 sp001914955</td>\n",
       "      <td>Bacteria</td>\n",
       "      <td>Nitrospirota</td>\n",
       "      <td>Nitrospiria</td>\n",
       "      <td>Nitrospirales</td>\n",
       "      <td>Nitrospiraceae</td>\n",
       "      <td>40CM-3-62-11</td>\n",
       "      <td>sp001914955</td>\n",
       "      <td>NaN</td>\n",
       "      <td>NaN</td>\n",
       "    </tr>\n",
       "    <tr>\n",
       "      <th>...</th>\n",
       "      <td>...</td>\n",
       "      <td>...</td>\n",
       "      <td>...</td>\n",
       "      <td>...</td>\n",
       "      <td>...</td>\n",
       "      <td>...</td>\n",
       "      <td>...</td>\n",
       "      <td>...</td>\n",
       "      <td>...</td>\n",
       "      <td>...</td>\n",
       "      <td>...</td>\n",
       "      <td>...</td>\n",
       "    </tr>\n",
       "    <tr>\n",
       "      <th>GCA_016711755.1</th>\n",
       "      <td>GCA_016711755.1</td>\n",
       "      <td>ncbi</td>\n",
       "      <td>Nitrospira_A sp900170025</td>\n",
       "      <td>Bacteria</td>\n",
       "      <td>Nitrospirota</td>\n",
       "      <td>Nitrospiria</td>\n",
       "      <td>Nitrospirales</td>\n",
       "      <td>Nitrospiraceae</td>\n",
       "      <td>Nitrospira_A</td>\n",
       "      <td>sp900170025</td>\n",
       "      <td>NaN</td>\n",
       "      <td>NaN</td>\n",
       "    </tr>\n",
       "    <tr>\n",
       "      <th>GCA_016715825.1</th>\n",
       "      <td>GCA_016715825.1</td>\n",
       "      <td>ncbi</td>\n",
       "      <td></td>\n",
       "      <td>Bacteria</td>\n",
       "      <td>Nitrospirota</td>\n",
       "      <td>Nitrospiria</td>\n",
       "      <td>Nitrospirales</td>\n",
       "      <td>Nitrospiraceae</td>\n",
       "      <td>Nitrospira</td>\n",
       "      <td></td>\n",
       "      <td>NaN</td>\n",
       "      <td>NaN</td>\n",
       "    </tr>\n",
       "    <tr>\n",
       "      <th>GCA_016719745.1</th>\n",
       "      <td>GCA_016719745.1</td>\n",
       "      <td>ncbi</td>\n",
       "      <td>Nitrospira_A sp900170025</td>\n",
       "      <td>Bacteria</td>\n",
       "      <td>Nitrospirota</td>\n",
       "      <td>Nitrospiria</td>\n",
       "      <td>Nitrospirales</td>\n",
       "      <td>Nitrospiraceae</td>\n",
       "      <td>Nitrospira_A</td>\n",
       "      <td>sp900170025</td>\n",
       "      <td>NaN</td>\n",
       "      <td>NaN</td>\n",
       "    </tr>\n",
       "    <tr>\n",
       "      <th>GCA_016722315.1</th>\n",
       "      <td>GCA_016722315.1</td>\n",
       "      <td>ncbi</td>\n",
       "      <td>Nitrospira_A sp900170025</td>\n",
       "      <td>Bacteria</td>\n",
       "      <td>Nitrospirota</td>\n",
       "      <td>Nitrospiria</td>\n",
       "      <td>Nitrospirales</td>\n",
       "      <td>Nitrospiraceae</td>\n",
       "      <td>Nitrospira_A</td>\n",
       "      <td>sp900170025</td>\n",
       "      <td>NaN</td>\n",
       "      <td>NaN</td>\n",
       "    </tr>\n",
       "    <tr>\n",
       "      <th>GCA_016722055.1</th>\n",
       "      <td>GCA_016722055.1</td>\n",
       "      <td>ncbi</td>\n",
       "      <td>Nitrospira sp002254365</td>\n",
       "      <td>Bacteria</td>\n",
       "      <td>Nitrospirota</td>\n",
       "      <td>Nitrospiria</td>\n",
       "      <td>Nitrospirales</td>\n",
       "      <td>Nitrospiraceae</td>\n",
       "      <td>Nitrospira</td>\n",
       "      <td>sp002254365</td>\n",
       "      <td>NaN</td>\n",
       "      <td>NaN</td>\n",
       "    </tr>\n",
       "  </tbody>\n",
       "</table>\n",
       "<p>137 rows × 12 columns</p>\n",
       "</div>"
      ],
      "text/plain": [
       "                       genome_id source                  organism    domain  \\\n",
       "GCA_001918505.1  GCA_001918505.1   ncbi  40CM-3-62-11 sp001914955  Bacteria   \n",
       "GCA_001920515.1  GCA_001920515.1   ncbi  40CM-3-62-11 sp001914955  Bacteria   \n",
       "GCA_001914545.1  GCA_001914545.1   ncbi  40CM-3-62-11 sp001914955  Bacteria   \n",
       "GCA_005877575.1  GCA_005877575.1   ncbi  40CM-3-62-11 sp001914955  Bacteria   \n",
       "GCA_005877605.1  GCA_005877605.1   ncbi  40CM-3-62-11 sp001914955  Bacteria   \n",
       "...                          ...    ...                       ...       ...   \n",
       "GCA_016711755.1  GCA_016711755.1   ncbi  Nitrospira_A sp900170025  Bacteria   \n",
       "GCA_016715825.1  GCA_016715825.1   ncbi                            Bacteria   \n",
       "GCA_016719745.1  GCA_016719745.1   ncbi  Nitrospira_A sp900170025  Bacteria   \n",
       "GCA_016722315.1  GCA_016722315.1   ncbi  Nitrospira_A sp900170025  Bacteria   \n",
       "GCA_016722055.1  GCA_016722055.1   ncbi    Nitrospira sp002254365  Bacteria   \n",
       "\n",
       "                       phylum        class          order          family  \\\n",
       "GCA_001918505.1  Nitrospirota  Nitrospiria  Nitrospirales  Nitrospiraceae   \n",
       "GCA_001920515.1  Nitrospirota  Nitrospiria  Nitrospirales  Nitrospiraceae   \n",
       "GCA_001914545.1  Nitrospirota  Nitrospiria  Nitrospirales  Nitrospiraceae   \n",
       "GCA_005877575.1  Nitrospirota  Nitrospiria  Nitrospirales  Nitrospiraceae   \n",
       "GCA_005877605.1  Nitrospirota  Nitrospiria  Nitrospirales  Nitrospiraceae   \n",
       "...                       ...          ...            ...             ...   \n",
       "GCA_016711755.1  Nitrospirota  Nitrospiria  Nitrospirales  Nitrospiraceae   \n",
       "GCA_016715825.1  Nitrospirota  Nitrospiria  Nitrospirales  Nitrospiraceae   \n",
       "GCA_016719745.1  Nitrospirota  Nitrospiria  Nitrospirales  Nitrospiraceae   \n",
       "GCA_016722315.1  Nitrospirota  Nitrospiria  Nitrospirales  Nitrospiraceae   \n",
       "GCA_016722055.1  Nitrospirota  Nitrospiria  Nitrospirales  Nitrospiraceae   \n",
       "\n",
       "                        genus      species  strain  \\\n",
       "GCA_001918505.1  40CM-3-62-11  sp001914955     NaN   \n",
       "GCA_001920515.1  40CM-3-62-11  sp001914955     NaN   \n",
       "GCA_001914545.1  40CM-3-62-11  sp001914955     NaN   \n",
       "GCA_005877575.1  40CM-3-62-11  sp001914955     NaN   \n",
       "GCA_005877605.1  40CM-3-62-11  sp001914955     NaN   \n",
       "...                       ...          ...     ...   \n",
       "GCA_016711755.1  Nitrospira_A  sp900170025     NaN   \n",
       "GCA_016715825.1    Nitrospira                  NaN   \n",
       "GCA_016719745.1  Nitrospira_A  sp900170025     NaN   \n",
       "GCA_016722315.1  Nitrospira_A  sp900170025     NaN   \n",
       "GCA_016722055.1    Nitrospira  sp002254365     NaN   \n",
       "\n",
       "                 closest_placement_reference  \n",
       "GCA_001918505.1                          NaN  \n",
       "GCA_001920515.1                          NaN  \n",
       "GCA_001914545.1                          NaN  \n",
       "GCA_005877575.1                          NaN  \n",
       "GCA_005877605.1                          NaN  \n",
       "...                                      ...  \n",
       "GCA_016711755.1                          NaN  \n",
       "GCA_016715825.1                          NaN  \n",
       "GCA_016719745.1                          NaN  \n",
       "GCA_016722315.1                          NaN  \n",
       "GCA_016722055.1                          NaN  \n",
       "\n",
       "[137 rows x 12 columns]"
      ]
     },
     "execution_count": 29,
     "metadata": {},
     "output_type": "execute_result"
    }
   ],
   "source": [
    "df_f__Nitrospiraceae_all"
   ]
  },
  {
   "cell_type": "markdown",
   "id": "a754f735-a5d1-4d07-9a3e-0ff1cb55c493",
   "metadata": {},
   "source": [
    "## New Project - Nitrospiraceae"
   ]
  },
  {
   "cell_type": "code",
   "execution_count": 30,
   "id": "56aed522-6af0-4a0e-8383-0a1bf0618379",
   "metadata": {},
   "outputs": [
    {
     "data": {
      "text/plain": [
       "(8, 37)"
      ]
     },
     "execution_count": 30,
     "metadata": {},
     "output_type": "execute_result"
    }
   ],
   "source": [
    "p__Nitrospirota_MAGs = df_MAGs_bioproject[df_MAGs_bioproject.loc[:, \"GTDBTax\"].str.contains(\"p__Nitrospirota\")]\n",
    "p__Nitrospirota_MAGs.shape"
   ]
  },
  {
   "cell_type": "code",
   "execution_count": 31,
   "id": "a9aad08a-0a05-459d-a3e9-ee6a9b772036",
   "metadata": {},
   "outputs": [
    {
     "data": {
      "text/plain": [
       "(320, 7)"
      ]
     },
     "execution_count": 31,
     "metadata": {},
     "output_type": "execute_result"
    }
   ],
   "source": [
    "p__Nitrospirota_GTDB = df_tax[df_tax.loc[:, \"phylum\"] == \"p__Nitrospirota\"]\n",
    "p__Nitrospirota_GTDB.shape"
   ]
  },
  {
   "cell_type": "code",
   "execution_count": 32,
   "id": "93f6a4b3-f583-4f01-bae1-f0210f831579",
   "metadata": {},
   "outputs": [],
   "source": [
    "df_p__Nitrospirota_gtdb = format_bgcflow(p__Nitrospirota_GTDB, os.path.join(tables, \"p__Nitrospirota_gtdb.csv\"))"
   ]
  },
  {
   "cell_type": "code",
   "execution_count": 33,
   "id": "b8ab443f-920f-46a5-b416-c05c063103d6",
   "metadata": {},
   "outputs": [],
   "source": [
    "df_p__Nitrospirota_MAGs = format_bgcflow(get_gtdb_tax(p__Nitrospirota_MAGs[\"GTDBTax\"]), os.path.join(tables, \"p__Nitrospirota_MAGs.csv\"))"
   ]
  },
  {
   "cell_type": "code",
   "execution_count": 34,
   "id": "346d2309-f068-4682-aff7-a78cc2f59310",
   "metadata": {},
   "outputs": [],
   "source": [
    "df_p__Nitrospirota_all = pd.concat([df_p__Nitrospirota_gtdb, df_p__Nitrospirota_MAGs])\n",
    "df_p__Nitrospirota_all.to_csv(\"../tables/p__Nitrospirota_all.csv\")"
   ]
  },
  {
   "cell_type": "markdown",
   "id": "ff131cf9-63bf-404c-b326-a9c7b3b58b35",
   "metadata": {},
   "source": [
    "## New Project - HQ Nitrospiraceae"
   ]
  },
  {
   "cell_type": "code",
   "execution_count": 68,
   "id": "1a33bc53-a1a7-45ed-a98a-e5593bbfb97e",
   "metadata": {},
   "outputs": [],
   "source": [
    "df_raw_HQ_Nitrospiraceae = pd.read_csv(\"../data/assembly_result_Nitrospiraceae_hq.txt\", sep=\"\\t\")\n",
    "df_raw_HQ_Nitrospiraceae = df_raw_HQ_Nitrospiraceae.fillna(\"\")"
   ]
  },
  {
   "cell_type": "code",
   "execution_count": 72,
   "id": "8125f2bf-92b3-4385-befc-065b459aef6c",
   "metadata": {},
   "outputs": [
    {
     "name": "stdout",
     "output_type": "stream",
     "text": [
      "GCF_011405515.1 refseq in dataframe\n",
      "GCF_000695975.1 refseq in GTDB: adding GCF_000695975.1 to list...\n",
      "GCF_001458695.1 refseq in dataframe\n",
      "GCF_000196815.1 refseq in dataframe\n",
      "GCF_000284315.1 refseq in GTDB: adding GCF_000284315.1 to list...\n",
      "GCA_014058405.1 genbank in dataframe\n",
      "GCF_000299235.1 refseq in GTDB: adding GCF_000299235.1 to list...\n",
      "GCA_015709715.1 not found: adding GCA_015709715.1 to list...\n",
      "GCA_020347665.1 not found: adding GCA_020347665.1 to list...\n",
      "GCA_020356065.1 not found: adding GCA_020356065.1 to list...\n",
      "GCA_020346765.1 not found: adding GCA_020346765.1 to list...\n",
      "GCA_020354155.1 not found: adding GCA_020354155.1 to list...\n",
      "GCA_020347785.1 not found: adding GCA_020347785.1 to list...\n",
      "GCA_020349825.1 not found: adding GCA_020349825.1 to list...\n",
      "GCF_001186405.1 refseq in GTDB: adding GCF_001186405.1 to list...\n",
      "GCF_001273775.1 refseq in dataframe\n",
      "GCF_900169565.1 refseq in dataframe\n"
     ]
    },
    {
     "data": {
      "text/plain": [
       "['GCA_015709715.1',\n",
       " 'GCA_020347665.1',\n",
       " 'GCA_020356065.1',\n",
       " 'GCA_020346765.1',\n",
       " 'GCA_020354155.1',\n",
       " 'GCA_020347785.1',\n",
       " 'GCA_020349825.1']"
      ]
     },
     "execution_count": 72,
     "metadata": {},
     "output_type": "execute_result"
    }
   ],
   "source": [
    "# Check if genbank available in GTDB\n",
    "\n",
    "ncbi_in_GTDB = []\n",
    "ncbi_not_in_GTDB = []\n",
    "\n",
    "for i in df_raw_HQ_Nitrospiraceae.index:\n",
    "    refseq = df_raw_HQ_Nitrospiraceae.loc[i, \"RefSeq Assembly ID (Accession.version)\"]\n",
    "    genbank = df_raw_HQ_Nitrospiraceae.loc[i, \"GenBank Assembly ID (Accession.version)\"]\n",
    "    \n",
    "    if refseq in df_p__Nitrospirota_all.genome_id:\n",
    "        print(refseq, \"refseq in dataframe\")\n",
    "    elif genbank in df_p__Nitrospirota_all.genome_id:\n",
    "        print(genbank, \"genbank in dataframe\")\n",
    "    \n",
    "    elif refseq in df_tax.index:\n",
    "        print(refseq, \"refseq in GTDB:\", f\"adding {refseq} to list...\")\n",
    "        ncbi_in_GTDB.append(refseq)\n",
    "    elif genbank in df_tax.index:\n",
    "        print(genbank, \"genbank in GTDB:\", f\"adding {genbank} to list...\")\n",
    "        ncbi_in_GTDB.append(genbank)\n",
    "    \n",
    "    else:\n",
    "        if refseq != \"\":\n",
    "            print(refseq, \"not found:\", f\"adding {refseq} to list...\")\n",
    "            ncbi_not_in_GTDB.append(refseq)\n",
    "        else:\n",
    "            print(genbank, \"not found:\", f\"adding {genbank} to list...\")\n",
    "            ncbi_not_in_GTDB.append(genbank)\n",
    "        \n",
    "ncbi_not_in_GTDB"
   ]
  },
  {
   "cell_type": "code",
   "execution_count": 82,
   "id": "a71269e3-b721-4612-9ccc-3fdcc54c338d",
   "metadata": {},
   "outputs": [],
   "source": [
    "p__Nitrospiraceae_NCBI_HQ = df_tax.loc[ncbi_in_GTDB, :]\n",
    "df_p__Nitrospiraceae_NCBI_HQ = format_bgcflow(p__Nitrospiraceae_NCBI_HQ, os.path.join(tables, \"f__Nitrospiraceae_NCBI_HQ.csv\"))\n",
    "for i in ncbi_not_in_GTDB:\n",
    "    df_p__Nitrospiraceae_NCBI_HQ.loc[i, [\"genome_id\", \"source\"]] = [i, \"ncbi\"]\n",
    "df_p__Nitrospiraceae_NCBI_HQ.to_csv(os.path.join(tables, \"f__Nitrospiraceae_NCBI_HQ.csv\"), index=False)"
   ]
  },
  {
   "cell_type": "code",
   "execution_count": 83,
   "id": "e98928be-0288-49db-a4ea-28dc3ab98a81",
   "metadata": {},
   "outputs": [],
   "source": [
    "df_p__Nitrospiraceae_HQ_all = pd.concat([df_p__Nitrospiraceae_NCBI_HQ, df_p__Nitrospirota_MAGs])\n",
    "df_p__Nitrospiraceae_HQ_all.to_csv(\"../tables/f__Nitrospiraceae_HQ_all.csv\")"
   ]
  },
  {
   "cell_type": "markdown",
   "id": "25b652bb-8960-4c5c-8f5e-a12ebedf399f",
   "metadata": {},
   "source": [
    "## New Project - Myxococcocta"
   ]
  },
  {
   "cell_type": "code",
   "execution_count": 35,
   "id": "b8f2c7c0-8150-4db5-8fe1-418f3b255b3d",
   "metadata": {},
   "outputs": [
    {
     "data": {
      "text/plain": [
       "(45, 37)"
      ]
     },
     "execution_count": 35,
     "metadata": {},
     "output_type": "execute_result"
    }
   ],
   "source": [
    "p__Myxococcota_MAGs = df_MAGs_bioproject[df_MAGs_bioproject.loc[:, \"GTDBTax\"].str.contains(\"p__Myxococcota\")]\n",
    "p__Myxococcota_MAGs.shape"
   ]
  },
  {
   "cell_type": "code",
   "execution_count": 36,
   "id": "62f5f8f9-2af5-4aaf-a955-ec95ae3382ef",
   "metadata": {},
   "outputs": [
    {
     "data": {
      "text/plain": [
       "(538, 7)"
      ]
     },
     "execution_count": 36,
     "metadata": {},
     "output_type": "execute_result"
    }
   ],
   "source": [
    "p__Myxococcota_GTDB = df_tax[df_tax.loc[:, \"phylum\"] == \"p__Myxococcota\"]\n",
    "p__Myxococcota_GTDB.shape"
   ]
  },
  {
   "cell_type": "code",
   "execution_count": 37,
   "id": "ec603a89-f7ff-4c65-b817-fa68a829f4ec",
   "metadata": {},
   "outputs": [],
   "source": [
    "df_p__Myxococcota_gtdb = format_bgcflow(p__Myxococcota_GTDB, os.path.join(tables, \"p__Myxococcota_gtdb.csv\"))"
   ]
  },
  {
   "cell_type": "code",
   "execution_count": 38,
   "id": "6b9317c9-1c9e-44f3-9a8e-eefb32655015",
   "metadata": {},
   "outputs": [],
   "source": [
    "df_p__Myxococcota_MAGs = format_bgcflow(get_gtdb_tax(p__Myxococcota_MAGs[\"GTDBTax\"]), os.path.join(tables, \"p__Myxococcota_MAGs.csv\"))"
   ]
  },
  {
   "cell_type": "code",
   "execution_count": 39,
   "id": "f636054a-a02e-43ed-8b8f-28ec52a45cbf",
   "metadata": {},
   "outputs": [
    {
     "data": {
      "text/plain": [
       "(583, 12)"
      ]
     },
     "execution_count": 39,
     "metadata": {},
     "output_type": "execute_result"
    }
   ],
   "source": [
    "df_p__Myxococcota_all = pd.concat([df_p__Myxococcota_gtdb, df_p__Myxococcota_MAGs])\n",
    "df_p__Myxococcota_all.to_csv(\"../tables/p__Myxococcota_all.csv\")\n",
    "df_p__Myxococcota_all.shape"
   ]
  },
  {
   "cell_type": "code",
   "execution_count": null,
   "id": "bcceb344-8faf-4a8d-84c4-e842ab44451d",
   "metadata": {},
   "outputs": [],
   "source": []
  }
 ],
 "metadata": {
  "kernelspec": {
   "display_name": "Python 3 (ipykernel)",
   "language": "python",
   "name": "python3"
  },
  "language_info": {
   "codemirror_mode": {
    "name": "ipython",
    "version": 3
   },
   "file_extension": ".py",
   "mimetype": "text/x-python",
   "name": "python",
   "nbconvert_exporter": "python",
   "pygments_lexer": "ipython3",
   "version": "3.10.1"
  }
 },
 "nbformat": 4,
 "nbformat_minor": 5
}
