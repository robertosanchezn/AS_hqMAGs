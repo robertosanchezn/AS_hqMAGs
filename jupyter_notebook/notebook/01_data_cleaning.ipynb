{
 "cells": [
  {
   "cell_type": "markdown",
   "id": "19acbe16-8fdd-4963-8934-1bacb13ffa9c",
   "metadata": {},
   "source": [
    "# 01. Prepare Sample Files for BGCflow\n",
    "We are interested to learn a bit more about the BGCs of the two phyla found in the MAGs from [Singleton et al., 2021](https://www.nature.com/articles/s41467-021-22203-2).\n",
    "\n",
    "These two are:\n",
    "- [p__Myxococcota](https://gtdb.ecogenomic.org/tree?r=p__Myxococcota) - a group that are talented to have BGCs\n",
    "- [f__Nitrospiraceae](https://gtdb.ecogenomic.org/tree?r=p__Nitrospirota) - a group that are functionally relevant to the WWTP AS environment\n",
    "\n",
    "As previous attempt in clustering the MAGs with other BGCs found in MIBIG database did not come to a hit, we are interested if we can find closely related BGCs within other genomes found in public database. For that, we will compare the BGCs detected in the MAGs vs genomes within the same phylum that can be found in GTDB.\n",
    "\n",
    "This notebook will prepare a sample file (`.csv`) for [BGCflow](https://github.com/NBChub/bgcflow) to run the pipeline for comparative BGC.\n",
    "\n",
    "\n",
    "## Table of Contents\n",
    "* [Library and paths setting](#load-library)\n",
    "* [Getting MAGs information from Singleton 2021](#second-bullet)\n",
    "    * [Data cleaning](#data-cleaning-mags)\n",
    "        * [Map to BioProject](#map-to-bioproject)\n",
    "    * [Filtering for Myxococcales](#myxo-filter-mags)\n",
    "    * [Filtering for Nitrospira](#nitro-filter-mags)\n",
    "\n",
    "### Load Library <a class=\"anchor\" id=\"load-library\"></a>\n"
   ]
  },
  {
   "cell_type": "code",
   "execution_count": null,
   "id": "e52126fb-1508-4b2e-8431-66d74abe906f",
   "metadata": {},
   "outputs": [],
   "source": [
    "import pandas as pd\n",
    "import numpy as np\n",
    "import os"
   ]
  },
  {
   "cell_type": "code",
   "execution_count": null,
   "id": "dda140ee-a7f0-4fd2-bdf1-bd85862f209e",
   "metadata": {},
   "outputs": [],
   "source": [
    "## Useful scripts\n",
    "def get_gtdb_tax(df):\n",
    "    \"\"\"\n",
    "    Clean bac120_taxonomy_<release>.tsv into pandas dataframe.\n",
    "    Get the file from https://data.gtdb.ecogenomic.org/releases/release202/202.0/bac120_taxonomy_r202.tsv\n",
    "    \"\"\"\n",
    "    # cleaning\n",
    "    df_tax = pd.DataFrame(df.apply(lambda x: x.split(\";\")).to_dict()).T\n",
    "    df_tax = df_tax.rename(columns={0:\"domain\",\n",
    "                          1:\"phylum\",\n",
    "                          2:\"class\",\n",
    "                          3:\"order\",\n",
    "                          4:\"family\",\n",
    "                          5:\"genus\",\n",
    "                          6:\"species\"})\n",
    "    return df_tax\n",
    "\n",
    "def format_bgcflow(df, outfile):\n",
    "    \"\"\"\n",
    "    Input a filtered Pandas DataFrame from bac120_taxonomy_<release>.tsv and format it to bgcflow samples.csv.\n",
    "    \"\"\"\n",
    "    filtered_df = df.copy()\n",
    "    for c in filtered_df.columns:\n",
    "        filtered_df.loc[:, c] = filtered_df.loc[:, c].apply(lambda x: x.split(\"__\")[-1])\n",
    "    filtered_df.insert(0, \"genome_id\", [g for g in filtered_df.index]) \n",
    "    filtered_df.insert(1, \"source\", [\"ncbi\" for g in filtered_df.index]) \n",
    "    filtered_df.insert(2, \"organism\", filtered_df.loc[:, \"species\"])\n",
    "    filtered_df.loc[:, \"species\"] = filtered_df.loc[:, \"species\"].apply(lambda x: x.split(\" \")[-1])\n",
    "    filtered_df.loc[:, \"strain\"] = np.nan\n",
    "    filtered_df.loc[:, \"closest_placement_reference\"] = np.nan\n",
    "    filtered_df.to_csv(outfile, index=False)\n",
    "    return filtered_df"
   ]
  },
  {
   "cell_type": "code",
   "execution_count": null,
   "id": "9e77ec80-7032-4663-96bf-6220a5f35128",
   "metadata": {},
   "outputs": [],
   "source": [
    "# Set paths\n",
    "tables = \"../tables\"\n",
    "data = \"../data\""
   ]
  },
  {
   "cell_type": "markdown",
   "id": "0b1f4d18-ec87-4c90-8350-623487da4fcf",
   "metadata": {},
   "source": [
    "# Getting MAGs information from Singleton 2021 <a class=\"anchor\" id=\"load-library\">\n",
    "## Data Cleaning <a class=\"anchor\" id=\"data-cleaning-mags\">\n",
    "First we will get the metadata from the paper and map them to NCBI assembly ids. Grab the metadata with:"
   ]
  },
  {
   "cell_type": "code",
   "execution_count": null,
   "id": "2ca7a30d-7c76-4815-b765-f7878ebd6126",
   "metadata": {},
   "outputs": [],
   "source": [
    "! wget -P {data} https://static-content.springer.com/esm/art%3A10.1038%2Fs41467-021-22203-2/MediaObjects/41467_2021_22203_MOESM5_ESM.xlsx -nc"
   ]
  },
  {
   "cell_type": "code",
   "execution_count": null,
   "id": "ea7c6412-10e6-4e40-baf6-a3d3e7185324",
   "metadata": {},
   "outputs": [],
   "source": [
    "# Load supplementary materials\n",
    "df_MAGs = pd.read_excel(os.path.join(data, \"41467_2021_22203_MOESM5_ESM.xlsx\"), skiprows=1)\n",
    "df_MAGs.head(1)"
   ]
  },
  {
   "cell_type": "code",
   "execution_count": null,
   "id": "74ee37d5-2274-4623-9e7d-e3b6adc57b76",
   "metadata": {},
   "outputs": [],
   "source": [
    "# What columns are available?\n",
    "df_MAGs.columns"
   ]
  },
  {
   "cell_type": "markdown",
   "id": "b5ecc58e-e93e-4525-9137-14e8d782fe63",
   "metadata": {},
   "source": [
    "## Map to BioProject</a><a class=\"anchor\" id=\"map-to-bioproject\">\n",
    "From the table above, we can see that it contains NCBI accession number, but we want the assembly ids (refseq or genbank). We can grab the information from bioproject. The easiest way is to go to https://www.ncbi.nlm.nih.gov/bioproject/prjna629478 and download the assembly details (we've downloaded it in this repository)."
   ]
  },
  {
   "cell_type": "code",
   "execution_count": null,
   "id": "8c47e01c-9f81-41d0-9565-bb87768099bf",
   "metadata": {},
   "outputs": [],
   "source": [
    "df_bioproject = pd.read_csv(os.path.join(data, \"PRJNA629478_AssemblyDetails.txt\"), skiprows=1, sep=\"\\t\", index_col=False)\n",
    "df_bioproject.head(1)"
   ]
  },
  {
   "cell_type": "code",
   "execution_count": null,
   "id": "14a58b3e-2056-4e8d-9e3f-4b28ff564a79",
   "metadata": {},
   "outputs": [],
   "source": [
    "df_bioproject.shape"
   ]
  },
  {
   "cell_type": "markdown",
   "id": "f339a32a-bec2-47e4-a7ab-66431e03a775",
   "metadata": {},
   "source": [
    "Looking at the structure, we can map the two tables using Isolate name in df_bioproject and MAG in df_MAGs:"
   ]
  },
  {
   "cell_type": "code",
   "execution_count": null,
   "id": "a782d59c-808a-41a3-a349-ed77a0d671c4",
   "metadata": {},
   "outputs": [],
   "source": [
    "df_MAGs.loc[:, \"Isolate\"] = [b.strip(\".fa\") for b in df_MAGs.MAG]\n",
    "df_MAGs.head(1)"
   ]
  },
  {
   "cell_type": "code",
   "execution_count": null,
   "id": "6e317ca7-e2f2-4de9-9cff-9fc6d790cd39",
   "metadata": {},
   "outputs": [],
   "source": [
    "df_MAGs_bioproject = pd.merge(df_MAGs, df_bioproject, on='Isolate')"
   ]
  },
  {
   "cell_type": "code",
   "execution_count": null,
   "id": "201df9fc-db66-4412-91d7-f4be05de896d",
   "metadata": {},
   "outputs": [],
   "source": [
    "## Format to BGCflow input\n",
    "df_MAGs_bioproject.columns"
   ]
  },
  {
   "cell_type": "code",
   "execution_count": null,
   "id": "9e9f051a-a69b-4e0a-831c-0c744aefe61b",
   "metadata": {},
   "outputs": [],
   "source": [
    "# Clean \n",
    "df_MAGs_bioproject = df_MAGs_bioproject.rename(columns={'# Assembly' : 'genome_id'})\n",
    "df_MAGs_bioproject = df_MAGs_bioproject.set_index(\"genome_id\", drop=False)\n",
    "df_MAGs_bioproject.to_csv(\"../tables/df_MAGs_bioproject.csv\", index=False)\n",
    "df_MAGs_bioproject.head(1)"
   ]
  },
  {
   "cell_type": "code",
   "execution_count": null,
   "id": "fe88510d-0146-46f8-83bd-92058ff5f656",
   "metadata": {},
   "outputs": [],
   "source": [
    "# Format into bgcflow input table\n",
    "df_MAGs_bgcflow = format_bgcflow(get_gtdb_tax(df_MAGs_bioproject[\"GTDBTax\"]), os.path.join(tables, \"df_MAGs_bgcflow.csv\"))\n",
    "df_MAGs_bgcflow.head(1)"
   ]
  },
  {
   "cell_type": "markdown",
   "id": "181d8855-5c34-4254-8f40-a78723cc6d9b",
   "metadata": {},
   "source": [
    "## Filtering for p__Myxococcota MAGs </a><a class=\"anchor\" id=\"myxo-filter-mags\"></a>"
   ]
  },
  {
   "cell_type": "code",
   "execution_count": null,
   "id": "3af8d520-336c-449b-8485-17ab1fb13de4",
   "metadata": {},
   "outputs": [],
   "source": [
    "df_p__Myxococcota_MAGs = df_MAGs_bioproject[df_MAGs_bioproject.loc[:, \"GTDBTax\"].str.contains(\"p__Myxococcota\")]\n",
    "df_p__Myxococcota_MAGs.shape"
   ]
  },
  {
   "cell_type": "code",
   "execution_count": null,
   "id": "6688f985-861b-4aad-a26b-a754d8722bff",
   "metadata": {},
   "outputs": [],
   "source": [
    "df_p__Myxococcota_MAGs.loc[:, \"GTDBTax\"].unique()"
   ]
  },
  {
   "cell_type": "code",
   "execution_count": null,
   "id": "acffc961-1277-470f-a6f5-a281442cf887",
   "metadata": {},
   "outputs": [],
   "source": [
    "format_bgcflow(get_gtdb_tax(df_p__Myxococcota_MAGs[\"GTDBTax\"]), os.path.join(tables, \"p__Myxococcota_MAGs.csv\")).head(1)"
   ]
  },
  {
   "cell_type": "markdown",
   "id": "e96de7a0-976c-48ec-b43e-a91ced6f269e",
   "metadata": {},
   "source": [
    "## Filtering for p__Nitrospirota MAGs </a><a class=\"anchor\" id=\"nitro-filter-mags\"></a>"
   ]
  },
  {
   "cell_type": "code",
   "execution_count": null,
   "id": "3b7614b1-858f-4bef-8ed6-e5f014d20a9a",
   "metadata": {},
   "outputs": [],
   "source": [
    "df_p__Nitrospirota_MAGs = df_MAGs_bioproject[df_MAGs_bioproject.loc[:, \"GTDBTax\"].str.contains(\"p__Nitrospirota\")]\n",
    "df_p__Nitrospirota_MAGs.shape"
   ]
  },
  {
   "cell_type": "code",
   "execution_count": null,
   "id": "e3566c9e-b327-4cf7-b0ae-b7ec6b1c7bff",
   "metadata": {},
   "outputs": [],
   "source": [
    "df_p__Nitrospirota_MAGs.loc[:, \"GTDBTax\"].unique()"
   ]
  },
  {
   "cell_type": "code",
   "execution_count": null,
   "id": "a1f3e274-71d9-4c65-9402-fdec1f701836",
   "metadata": {},
   "outputs": [],
   "source": [
    "df_p__Nitrospirota_MAGs = format_bgcflow(get_gtdb_tax(df_p__Nitrospirota_MAGs[\"GTDBTax\"]), os.path.join(tables, \"p__Nitrospirota_MAGs.csv\"))"
   ]
  },
  {
   "cell_type": "markdown",
   "id": "279578de-86b0-4af8-b91c-cb8563a593e0",
   "metadata": {},
   "source": [
    "# Getting genome assembly accession id from GTDB\n",
    "If you hadn't done so, download the taxonomy mapping from the latest GTDB release:"
   ]
  },
  {
   "cell_type": "code",
   "execution_count": null,
   "id": "db20d69b-8808-479f-b2e2-c390c88833b2",
   "metadata": {},
   "outputs": [],
   "source": [
    "# Download bacteria taxonomy from release 202\n",
    "! wget -P {data} https://data.gtdb.ecogenomic.org/releases/release202/202.0/bac120_taxonomy_r202.tsv -nc"
   ]
  },
  {
   "cell_type": "code",
   "execution_count": null,
   "id": "dd0076f0-7c6d-4f0d-a3ee-fa81410d9290",
   "metadata": {},
   "outputs": [],
   "source": [
    "df = pd.read_csv(os.path.join(data, \"bac120_taxonomy_r202.tsv\"), sep=\"\\t\", header=None, index_col=0)\n",
    "df.index = [i.split(\"_\",1)[-1] for i in df.index]\n",
    "# Clean the file\n",
    "df_tax = get_gtdb_tax(df[1])\n",
    "df_tax.head(1)"
   ]
  },
  {
   "cell_type": "markdown",
   "id": "25b652bb-8960-4c5c-8f5e-a12ebedf399f",
   "metadata": {},
   "source": [
    "## Get all p__Myxococcota from MAGs and GTDB"
   ]
  },
  {
   "cell_type": "code",
   "execution_count": null,
   "id": "b8f2c7c0-8150-4db5-8fe1-418f3b255b3d",
   "metadata": {},
   "outputs": [],
   "source": [
    "p__Myxococcota_MAGs = df_MAGs_bioproject[df_MAGs_bioproject.loc[:, \"GTDBTax\"].str.contains(\"p__Myxococcota\")]\n",
    "p__Myxococcota_MAGs.shape"
   ]
  },
  {
   "cell_type": "code",
   "execution_count": null,
   "id": "62f5f8f9-2af5-4aaf-a955-ec95ae3382ef",
   "metadata": {},
   "outputs": [],
   "source": [
    "p__Myxococcota_GTDB = df_tax[df_tax.loc[:, \"phylum\"] == \"p__Myxococcota\"]\n",
    "p__Myxococcota_GTDB.shape"
   ]
  },
  {
   "cell_type": "code",
   "execution_count": null,
   "id": "ec603a89-f7ff-4c65-b817-fa68a829f4ec",
   "metadata": {},
   "outputs": [],
   "source": [
    "df_p__Myxococcota_gtdb = format_bgcflow(p__Myxococcota_GTDB, os.path.join(tables, \"p__Myxococcota_gtdb.csv\"))"
   ]
  },
  {
   "cell_type": "code",
   "execution_count": null,
   "id": "6b9317c9-1c9e-44f3-9a8e-eefb32655015",
   "metadata": {},
   "outputs": [],
   "source": [
    "df_p__Myxococcota_MAGs = format_bgcflow(get_gtdb_tax(p__Myxococcota_MAGs[\"GTDBTax\"]), os.path.join(tables, \"p__Myxococcota_MAGs.csv\"))"
   ]
  },
  {
   "cell_type": "code",
   "execution_count": null,
   "id": "f636054a-a02e-43ed-8b8f-28ec52a45cbf",
   "metadata": {},
   "outputs": [],
   "source": [
    "df_p__Myxococcota_all = pd.concat([df_p__Myxococcota_gtdb, df_p__Myxococcota_MAGs])\n",
    "df_p__Myxococcota_all.to_csv(\"../tables/p__Myxococcota_all.csv\")\n",
    "df_p__Myxococcota_all.shape"
   ]
  },
  {
   "cell_type": "markdown",
   "id": "ce8bfb84-844b-4ffa-a5fc-9cd66f158a34",
   "metadata": {},
   "source": [
    "## Get all p__Nitrospirota from MAGs and GTDB"
   ]
  },
  {
   "cell_type": "code",
   "execution_count": null,
   "id": "a455780a-ee45-42dd-a8b0-6d6bfcfca1af",
   "metadata": {},
   "outputs": [],
   "source": [
    "p__Nitrospirota_MAGs = df_MAGs_bioproject[df_MAGs_bioproject.loc[:, \"GTDBTax\"].str.contains(\"p__Nitrospirota\")]\n",
    "p__Nitrospirota_MAGs.shape"
   ]
  },
  {
   "cell_type": "code",
   "execution_count": null,
   "id": "12707824-5250-4169-bc7b-a411efbffe1d",
   "metadata": {},
   "outputs": [],
   "source": [
    "p__Nitrospirota_GTDB = df_tax[df_tax.loc[:, \"phylum\"] == \"p__Nitrospirota\"]\n",
    "p__Nitrospirota_GTDB.shape"
   ]
  },
  {
   "cell_type": "code",
   "execution_count": null,
   "id": "70f745f2-b491-409a-a325-919fc865b471",
   "metadata": {},
   "outputs": [],
   "source": [
    "df_p__Nitrospirota_gtdb = format_bgcflow(p__Nitrospirota_GTDB, os.path.join(tables, \"p__Nitrospirota_gtdb.csv\"))\n",
    "df_p__Nitrospirota_MAGs = format_bgcflow(get_gtdb_tax(p__Nitrospirota_MAGs[\"GTDBTax\"]), os.path.join(tables, \"p__Nitrospirota_MAGs.csv\"))"
   ]
  },
  {
   "cell_type": "code",
   "execution_count": null,
   "id": "5f4b5858-df40-46a3-bce8-ca0676521b7c",
   "metadata": {},
   "outputs": [],
   "source": [
    "df_p__Nitrospirota_all = pd.concat([df_p__Nitrospirota_gtdb, df_p__Nitrospirota_MAGs])\n",
    "df_p__Nitrospirota_all.to_csv(\"../tables/p__Nitrospirota_all.csv\")"
   ]
  },
  {
   "cell_type": "markdown",
   "id": "ff131cf9-63bf-404c-b326-a9c7b3b58b35",
   "metadata": {},
   "source": [
    "## New Project - HQ Nitrospiraceae\n",
    "We would also try zooming in for the HQ genomes available in NCBI"
   ]
  },
  {
   "cell_type": "code",
   "execution_count": null,
   "id": "1a33bc53-a1a7-45ed-a98a-e5593bbfb97e",
   "metadata": {},
   "outputs": [],
   "source": [
    "df_raw_HQ_Nitrospiraceae = pd.read_csv(\"../data/assembly_result_Nitrospiraceae_hq.txt\", sep=\"\\t\")\n",
    "df_raw_HQ_Nitrospiraceae = df_raw_HQ_Nitrospiraceae.fillna(\"\")"
   ]
  },
  {
   "cell_type": "code",
   "execution_count": null,
   "id": "8125f2bf-92b3-4385-befc-065b459aef6c",
   "metadata": {},
   "outputs": [],
   "source": [
    "# Check if genbank available in GTDB\n",
    "\n",
    "ncbi_in_GTDB = []\n",
    "ncbi_not_in_GTDB = []\n",
    "\n",
    "for i in df_raw_HQ_Nitrospiraceae.index:\n",
    "    refseq = df_raw_HQ_Nitrospiraceae.loc[i, \"RefSeq Assembly ID (Accession.version)\"]\n",
    "    genbank = df_raw_HQ_Nitrospiraceae.loc[i, \"GenBank Assembly ID (Accession.version)\"]\n",
    "    \n",
    "    if refseq in df_p__Nitrospirota_all.genome_id:\n",
    "        print(refseq, \"refseq in dataframe\")\n",
    "    elif genbank in df_p__Nitrospirota_all.genome_id:\n",
    "        print(genbank, \"genbank in dataframe\")\n",
    "    \n",
    "    elif refseq in df_tax.index:\n",
    "        print(refseq, \"refseq in GTDB:\", f\"adding {refseq} to list...\")\n",
    "        ncbi_in_GTDB.append(refseq)\n",
    "    elif genbank in df_tax.index:\n",
    "        print(genbank, \"genbank in GTDB:\", f\"adding {genbank} to list...\")\n",
    "        ncbi_in_GTDB.append(genbank)\n",
    "    \n",
    "    else:\n",
    "        if refseq != \"\":\n",
    "            print(refseq, \"not found:\", f\"adding {refseq} to list...\")\n",
    "            ncbi_not_in_GTDB.append(refseq)\n",
    "        else:\n",
    "            print(genbank, \"not found:\", f\"adding {genbank} to list...\")\n",
    "            ncbi_not_in_GTDB.append(genbank)\n",
    "        \n",
    "ncbi_not_in_GTDB"
   ]
  },
  {
   "cell_type": "code",
   "execution_count": null,
   "id": "a71269e3-b721-4612-9ccc-3fdcc54c338d",
   "metadata": {},
   "outputs": [],
   "source": [
    "p__Nitrospiraceae_NCBI_HQ = df_tax.loc[ncbi_in_GTDB, :]\n",
    "df_p__Nitrospiraceae_NCBI_HQ = format_bgcflow(p__Nitrospiraceae_NCBI_HQ, os.path.join(tables, \"f__Nitrospiraceae_NCBI_HQ.csv\"))\n",
    "for i in ncbi_not_in_GTDB:\n",
    "    df_p__Nitrospiraceae_NCBI_HQ.loc[i, [\"genome_id\", \"source\"]] = [i, \"ncbi\"]\n",
    "df_p__Nitrospiraceae_NCBI_HQ.to_csv(os.path.join(tables, \"f__Nitrospiraceae_NCBI_HQ.csv\"), index=False)"
   ]
  },
  {
   "cell_type": "code",
   "execution_count": null,
   "id": "e98928be-0288-49db-a4ea-28dc3ab98a81",
   "metadata": {},
   "outputs": [],
   "source": [
    "df_p__Nitrospiraceae_HQ_all = pd.concat([df_p__Nitrospiraceae_NCBI_HQ, df_p__Nitrospirota_MAGs])\n",
    "df_p__Nitrospiraceae_HQ_all.to_csv(\"../tables/f__Nitrospiraceae_HQ_all.csv\")"
   ]
  },
  {
   "cell_type": "markdown",
   "id": "b08e3652-dce4-4dd3-86dd-ecb602f4667a",
   "metadata": {},
   "source": [
    "## Summary"
   ]
  },
  {
   "cell_type": "markdown",
   "id": "08044967-9e5a-4476-93b7-c8469c88d070",
   "metadata": {},
   "source": [
    "The results are stored in `../tables`, and can be used as the sample file for BGCflow"
   ]
  }
 ],
 "metadata": {
  "kernelspec": {
   "display_name": "Python 3 (ipykernel)",
   "language": "python",
   "name": "python3"
  },
  "language_info": {
   "codemirror_mode": {
    "name": "ipython",
    "version": 3
   },
   "file_extension": ".py",
   "mimetype": "text/x-python",
   "name": "python",
   "nbconvert_exporter": "python",
   "pygments_lexer": "ipython3",
   "version": "3.10.2"
  }
 },
 "nbformat": 4,
 "nbformat_minor": 5
}
