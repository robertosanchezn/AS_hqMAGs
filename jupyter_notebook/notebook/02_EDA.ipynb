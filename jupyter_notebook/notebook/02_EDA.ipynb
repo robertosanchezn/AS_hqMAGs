{
 "cells": [
  {
   "cell_type": "code",
   "execution_count": 9,
   "id": "621f3f60-d508-4d52-918f-53b22ee317b0",
   "metadata": {},
   "outputs": [],
   "source": [
    "import pandas as pd\n",
    "import seaborn as sns"
   ]
  },
  {
   "cell_type": "code",
   "execution_count": 10,
   "id": "f1acdcc4-b6b1-40c7-8f1f-d56f40bcd461",
   "metadata": {},
   "outputs": [],
   "source": [
    "df_bioproject = pd.read_csv(\"../tables/df_MAGs_bioproject.csv\")\n",
    "df_tax = pd.read_csv(\"../tables/df_MAGs_bgcflow.csv\")"
   ]
  },
  {
   "cell_type": "code",
   "execution_count": 12,
   "id": "939baa6c-991c-4407-b7a9-6403c11e879a",
   "metadata": {},
   "outputs": [],
   "source": [
    "df = pd.merge(df_tax, df_bioproject, on=\"genome_id\")"
   ]
  },
  {
   "cell_type": "code",
   "execution_count": 15,
   "id": "d92ff919-a257-4902-8161-80de5b985b6b",
   "metadata": {},
   "outputs": [
    {
     "data": {
      "text/html": [
       "<div>\n",
       "<style scoped>\n",
       "    .dataframe tbody tr th:only-of-type {\n",
       "        vertical-align: middle;\n",
       "    }\n",
       "\n",
       "    .dataframe tbody tr th {\n",
       "        vertical-align: top;\n",
       "    }\n",
       "\n",
       "    .dataframe thead th {\n",
       "        text-align: right;\n",
       "    }\n",
       "</style>\n",
       "<table border=\"1\" class=\"dataframe\">\n",
       "  <thead>\n",
       "    <tr style=\"text-align: right;\">\n",
       "      <th></th>\n",
       "      <th>genome_id</th>\n",
       "      <th>source</th>\n",
       "      <th>organism</th>\n",
       "      <th>domain</th>\n",
       "      <th>phylum</th>\n",
       "      <th>class</th>\n",
       "      <th>order</th>\n",
       "      <th>family</th>\n",
       "      <th>genus</th>\n",
       "      <th>species</th>\n",
       "      <th>...</th>\n",
       "      <th>mm27f</th>\n",
       "      <th>mm534r</th>\n",
       "      <th>ttl_polymorphic_rate</th>\n",
       "      <th>polymut_rate</th>\n",
       "      <th>Isolate</th>\n",
       "      <th>Level</th>\n",
       "      <th>WGS</th>\n",
       "      <th>Chrs</th>\n",
       "      <th>BioSample</th>\n",
       "      <th>Taxonomy</th>\n",
       "    </tr>\n",
       "  </thead>\n",
       "  <tbody>\n",
       "    <tr>\n",
       "      <th>0</th>\n",
       "      <td>GCA_016699045.1</td>\n",
       "      <td>ncbi</td>\n",
       "      <td>NaN</td>\n",
       "      <td>Bacteria</td>\n",
       "      <td>Dependentiae</td>\n",
       "      <td>Babeliae</td>\n",
       "      <td>Babeliales</td>\n",
       "      <td>RVW-14</td>\n",
       "      <td>NaN</td>\n",
       "      <td>NaN</td>\n",
       "      <td>...</td>\n",
       "      <td>1.0</td>\n",
       "      <td>0.0</td>\n",
       "      <td>0.00164</td>\n",
       "      <td>0.00052</td>\n",
       "      <td>AalE_18-Q3-R2-46_BAT3C.1_cln</td>\n",
       "      <td>Complete genome</td>\n",
       "      <td>undefined</td>\n",
       "      <td>1</td>\n",
       "      <td>SAMN16425488</td>\n",
       "      <td>bacterium</td>\n",
       "    </tr>\n",
       "  </tbody>\n",
       "</table>\n",
       "<p>1 rows × 48 columns</p>\n",
       "</div>"
      ],
      "text/plain": [
       "         genome_id source organism    domain        phylum     class  \\\n",
       "0  GCA_016699045.1   ncbi      NaN  Bacteria  Dependentiae  Babeliae   \n",
       "\n",
       "        order  family genus species  ...  mm27f  mm534r ttl_polymorphic_rate  \\\n",
       "0  Babeliales  RVW-14   NaN     NaN  ...    1.0     0.0              0.00164   \n",
       "\n",
       "  polymut_rate                       Isolate            Level        WGS  \\\n",
       "0      0.00052  AalE_18-Q3-R2-46_BAT3C.1_cln  Complete genome  undefined   \n",
       "\n",
       "   Chrs     BioSample   Taxonomy  \n",
       "0     1  SAMN16425488  bacterium  \n",
       "\n",
       "[1 rows x 48 columns]"
      ]
     },
     "execution_count": 15,
     "metadata": {},
     "output_type": "execute_result"
    }
   ],
   "source": [
    "df.head(1)"
   ]
  },
  {
   "cell_type": "code",
   "execution_count": 14,
   "id": "50bb19b3-7308-4fb6-94e9-a3c688a2f49a",
   "metadata": {},
   "outputs": [
    {
     "data": {
      "text/plain": [
       "Index(['genome_id', 'source', 'organism', 'domain', 'phylum', 'class', 'order',\n",
       "       'family', 'genus', 'species', 'strain', 'closest_placement_reference',\n",
       "       'MAG', 'NCBI_accession_number', 'NumContigs', 'TotBP', 'MaxContigBP',\n",
       "       'AvContigBP', 'HQMAG', 'HQdRep', 'HQdRep99ANI', 'HQSpRep', 'Comp',\n",
       "       'Cont', 'StrHet', 'Circ', 'FLSSU', 'FLLSU', 'GTDBTax', 'MiDAS3_7Tax',\n",
       "       'MIdentity', 'MAlnLgth', 'SILVA138Tax', 'SIdentity', 'SAlnLgth',\n",
       "       'ilmcov', 'npcov', 'max_abund', 'mm27f', 'mm534r',\n",
       "       'ttl_polymorphic_rate', 'polymut_rate', 'Isolate', 'Level', 'WGS',\n",
       "       'Chrs', 'BioSample', 'Taxonomy'],\n",
       "      dtype='object')"
      ]
     },
     "execution_count": 14,
     "metadata": {},
     "output_type": "execute_result"
    }
   ],
   "source": [
    "df.columns"
   ]
  },
  {
   "cell_type": "code",
   "execution_count": 32,
   "id": "b700aebd-99f5-4e1c-b1c3-28fcfe67da63",
   "metadata": {},
   "outputs": [
    {
     "data": {
      "text/plain": [
       "(8, 48)"
      ]
     },
     "execution_count": 32,
     "metadata": {},
     "output_type": "execute_result"
    }
   ],
   "source": [
    "df_f__Nitrospiraceae_MAGs = df[df.loc[:, \"GTDBTax\"].str.contains(\"f__Nitrospiraceae\")]\n",
    "df_f__Nitrospiraceae_MAGs.shape"
   ]
  },
  {
   "cell_type": "code",
   "execution_count": 33,
   "id": "4d4e9ece-edcf-4338-9944-69de66a4fe4e",
   "metadata": {},
   "outputs": [
    {
     "data": {
      "text/plain": [
       "<AxesSubplot:>"
      ]
     },
     "execution_count": 33,
     "metadata": {},
     "output_type": "execute_result"
    },
    {
     "data": {
      "image/png": "[encoded data removed]",
      "text/plain": [
       "<Figure size 432x288 with 1 Axes>"
      ]
     },
     "metadata": {
      "needs_background": "light"
     },
     "output_type": "display_data"
    }
   ],
   "source": [
    "df_f__Nitrospiraceae_MAGs.genus.value_counts().plot(kind=\"barh\")"
   ]
  },
  {
   "cell_type": "code",
   "execution_count": 34,
   "id": "c2743a07-25f9-4e84-bcdc-50e5c677d194",
   "metadata": {},
   "outputs": [],
   "source": [
    "df_f__Nitrospiraceae_all = pd.read_csv(\"../tables/f__Nitrospiraceae_all.csv\")"
   ]
  },
  {
   "cell_type": "code",
   "execution_count": 36,
   "id": "64fb0dac-0ee4-4c0e-a3c5-abdd19100742",
   "metadata": {},
   "outputs": [
    {
     "data": {
      "text/plain": [
       "<AxesSubplot:>"
      ]
     },
     "execution_count": 36,
     "metadata": {},
     "output_type": "execute_result"
    },
    {
     "data": {
      "image/png": "[encoded data removed]",
      "text/plain": [
       "<Figure size 432x288 with 1 Axes>"
      ]
     },
     "metadata": {
      "needs_background": "light"
     },
     "output_type": "display_data"
    }
   ],
   "source": [
    "df_f__Nitrospiraceae_all.genus.value_counts().plot(kind=\"barh\")"
   ]
  },
  {
   "cell_type": "code",
   "execution_count": null,
   "id": "54ab8b9e-6489-46c9-b083-da61e6855dcf",
   "metadata": {},
   "outputs": [],
   "source": []
  }
 ],
 "metadata": {
  "kernelspec": {
   "display_name": "Python 3 (ipykernel)",
   "language": "python",
   "name": "python3"
  },
  "language_info": {
   "codemirror_mode": {
    "name": "ipython",
    "version": 3
   },
   "file_extension": ".py",
   "mimetype": "text/x-python",
   "name": "python",
   "nbconvert_exporter": "python",
   "pygments_lexer": "ipython3",
   "version": "3.10.1"
  }
 },
 "nbformat": 4,
 "nbformat_minor": 5
}
