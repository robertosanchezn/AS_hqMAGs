{
 "cells": [
  {
   "cell_type": "markdown",
   "id": "5418bdd5-3a64-47c0-a75f-048ee6423baa",
   "metadata": {},
   "source": [
    "# 02. Exploratory Data Analysis\n",
    "This part of the notebook is not finished yet, but meant to explore the data before running it in BGCflow"
   ]
  },
  {
   "cell_type": "code",
   "execution_count": null,
   "id": "51e213f2-9755-491b-82f1-6b4188b32f76",
   "metadata": {},
   "outputs": [],
   "source": [
    "import pandas as pd\n",
    "import seaborn as sns"
   ]
  },
  {
   "cell_type": "code",
   "execution_count": null,
   "id": "f1acdcc4-b6b1-40c7-8f1f-d56f40bcd461",
   "metadata": {},
   "outputs": [],
   "source": [
    "df_bioproject = pd.read_csv(\"../tables/df_MAGs_bioproject.csv\")\n",
    "df_tax = pd.read_csv(\"../tables/df_MAGs_bgcflow.csv\")"
   ]
  },
  {
   "cell_type": "code",
   "execution_count": null,
   "id": "939baa6c-991c-4407-b7a9-6403c11e879a",
   "metadata": {},
   "outputs": [],
   "source": [
    "df = pd.merge(df_tax, df_bioproject, on=\"genome_id\")"
   ]
  },
  {
   "cell_type": "code",
   "execution_count": null,
   "id": "d92ff919-a257-4902-8161-80de5b985b6b",
   "metadata": {},
   "outputs": [],
   "source": [
    "df.head(1)"
   ]
  },
  {
   "cell_type": "code",
   "execution_count": null,
   "id": "50bb19b3-7308-4fb6-94e9-a3c688a2f49a",
   "metadata": {},
   "outputs": [],
   "source": [
    "df.columns"
   ]
  },
  {
   "cell_type": "code",
   "execution_count": null,
   "id": "b700aebd-99f5-4e1c-b1c3-28fcfe67da63",
   "metadata": {},
   "outputs": [],
   "source": [
    "df_p__Nitrospirota_MAGs = df[df.loc[:, \"GTDBTax\"].str.contains(\"p__Nitrospirota\")]\n",
    "df_p__Nitrospirota_MAGs.shape"
   ]
  },
  {
   "cell_type": "code",
   "execution_count": null,
   "id": "4d4e9ece-edcf-4338-9944-69de66a4fe4e",
   "metadata": {},
   "outputs": [],
   "source": [
    "df_p__Nitrospirota_MAGs.genus.value_counts().plot(kind=\"barh\")"
   ]
  },
  {
   "cell_type": "code",
   "execution_count": null,
   "id": "c2743a07-25f9-4e84-bcdc-50e5c677d194",
   "metadata": {},
   "outputs": [],
   "source": [
    "df_p__Nitrospirota_all = pd.read_csv(\"../tables/p__Nitrospirota_all.csv\")"
   ]
  },
  {
   "cell_type": "code",
   "execution_count": null,
   "id": "64fb0dac-0ee4-4c0e-a3c5-abdd19100742",
   "metadata": {},
   "outputs": [],
   "source": [
    "df_p__Nitrospirota_all.genus.value_counts().plot(kind=\"barh\")"
   ]
  }
 ],
 "metadata": {
  "kernelspec": {
   "display_name": "Python 3 (ipykernel)",
   "language": "python",
   "name": "python3"
  },
  "language_info": {
   "codemirror_mode": {
    "name": "ipython",
    "version": 3
   },
   "file_extension": ".py",
   "mimetype": "text/x-python",
   "name": "python",
   "nbconvert_exporter": "python",
   "pygments_lexer": "ipython3",
   "version": "3.10.2"
  }
 },
 "nbformat": 4,
 "nbformat_minor": 5
}
