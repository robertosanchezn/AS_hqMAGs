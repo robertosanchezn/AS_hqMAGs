{
 "cells": [
  {
   "cell_type": "markdown",
   "id": "4ccf8f3e-5d18-4e69-91ae-06c60a753964",
   "metadata": {},
   "source": [
    "## Interact with BiG-SLICE SQL Query result"
   ]
  },
  {
   "cell_type": "code",
   "execution_count": null,
   "id": "66057e2e-17ef-42c4-8080-24688298413f",
   "metadata": {},
   "outputs": [],
   "source": [
    "import sqlite3\n",
    "import pandas as pd\n",
    "from os import path\n",
    "import json"
   ]
  },
  {
   "cell_type": "markdown",
   "id": "a461a169-1cec-4ed4-bd4d-90e70e894d56",
   "metadata": {},
   "source": [
    "## Download bigslice query from azure"
   ]
  },
  {
   "cell_type": "code",
   "execution_count": null,
   "id": "4580de0f-b4f7-4114-a4fe-ee193cf8da49",
   "metadata": {},
   "outputs": [],
   "source": [
    "# load credentials\n",
    "with open(\"../secret/blob-key.json\") as f:\n",
    "    az_account = json.load(f)\n",
    "account_name = az_account[\"account_name\"]\n",
    "key = az_account[\"key\"]"
   ]
  },
  {
   "cell_type": "code",
   "execution_count": null,
   "id": "c917c43d-566f-449f-910d-7c38b2458653",
   "metadata": {},
   "outputs": [],
   "source": [
    "# fetch from azure\n",
    "container = \"processed\"\n",
    "item_to_download = \"bigslice/bigslice_query.zip\"\n",
    "target = \"../data/bigslice_query.zip\"\n",
    "! az Storage blob download --account-key {key} --account-name {account_name} \\\n",
    "    --container-name {container} --file {target} --name {item_to_download} \\\n",
    "    > ../data/bigslice_query.log"
   ]
  },
  {
   "cell_type": "code",
   "execution_count": null,
   "id": "dfb9e338-6bbd-4e1b-9872-3c8e93de5040",
   "metadata": {},
   "outputs": [],
   "source": [
    "# extract data\n",
    "! (cd ../data/ && unzip -f bigslice_query.zip)"
   ]
  },
  {
   "cell_type": "markdown",
   "id": "a6059930-3111-4ec3-8984-d9f2c699b9b7",
   "metadata": {},
   "source": [
    "## Interact with sql db via sqlite3"
   ]
  },
  {
   "cell_type": "code",
   "execution_count": null,
   "id": "c075249c-6aba-4ff1-94df-6342518dc33e",
   "metadata": {},
   "outputs": [],
   "source": [
    "# initiate connection\n",
    "result_folder = \"../data/full_run_result/\"\n",
    "conn = sqlite3.connect(path.join(result_folder, \"reports/1/data.db\"))"
   ]
  },
  {
   "cell_type": "code",
   "execution_count": null,
   "id": "eaf53060-2d97-451b-bf5d-c7d715d6f370",
   "metadata": {},
   "outputs": [],
   "source": [
    "# get all table name from sql\n",
    "cursor = conn.cursor()\n",
    "cursor.execute(\"SELECT name FROM sqlite_master WHERE type='table';\")\n",
    "sql_table_names = [i[0] for i in cursor.fetchall()]\n",
    "sql_table_names"
   ]
  },
  {
   "cell_type": "code",
   "execution_count": null,
   "id": "4629b004-869d-45fd-8226-4d5f9b0f9b7c",
   "metadata": {},
   "outputs": [],
   "source": [
    "# convert table to pandas df\n",
    "df_tables = []\n",
    "for t in sql_table_names:\n",
    "    df = pd.read_sql_query(f\"select * from {t};\", conn)\n",
    "    df_tables.append(df)"
   ]
  },
  {
   "cell_type": "markdown",
   "id": "ccabcffa-3b86-4c17-aa09-d7103612cd33",
   "metadata": {},
   "source": [
    "### EDA"
   ]
  },
  {
   "cell_type": "code",
   "execution_count": null,
   "id": "7bcf6839-75b4-49d4-8d18-4f3cc796c0bf",
   "metadata": {},
   "outputs": [],
   "source": [
    "# slice 1 example BGCs\n",
    "df_input = df_tables[1]\n",
    "df_input#[df_input.id == 1]"
   ]
  },
  {
   "cell_type": "code",
   "execution_count": null,
   "id": "7809cd53-cd88-4802-aab4-94eba98c3962",
   "metadata": {},
   "outputs": [],
   "source": [
    "df_input[\"genome_id\"] = [path.basename(i) for i in df_input.loc[:, \"orig_folder\"]]"
   ]
  },
  {
   "cell_type": "code",
   "execution_count": null,
   "id": "4b5bf7fa-eb31-405b-835f-c3bcb0e68ee9",
   "metadata": {},
   "outputs": [],
   "source": [
    "df_input.loc[:, [\"genome_id\", \"orig_filename\"]].to_csv(\"../tables/bigscape_mapping.csv\", index=False)"
   ]
  },
  {
   "cell_type": "code",
   "execution_count": null,
   "id": "c5e0e631-385e-416a-8e57-a396e5036ab0",
   "metadata": {},
   "outputs": [],
   "source": [
    "# see 10 top hits to BGCs\n",
    "df_gcf = df_tables[9]\n",
    "df_gcf[df_gcf.bgc_id == 1]"
   ]
  }
 ],
 "metadata": {
  "kernelspec": {
   "display_name": "Python 3 (ipykernel)",
   "language": "python",
   "name": "python3"
  },
  "language_info": {
   "codemirror_mode": {
    "name": "ipython",
    "version": 3
   },
   "file_extension": ".py",
   "mimetype": "text/x-python",
   "name": "python",
   "nbconvert_exporter": "python",
   "pygments_lexer": "ipython3",
   "version": "3.10.2"
  }
 },
 "nbformat": 4,
 "nbformat_minor": 5
}
