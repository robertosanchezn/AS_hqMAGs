{
 "cells": [
  {
   "cell_type": "markdown",
   "id": "4ccf8f3e-5d18-4e69-91ae-06c60a753964",
   "metadata": {},
   "source": [
    "## Interact with BiG-SLICE SQL Query result"
   ]
  },
  {
   "cell_type": "code",
   "execution_count": 1,
   "id": "66057e2e-17ef-42c4-8080-24688298413f",
   "metadata": {},
   "outputs": [],
   "source": [
    "import sqlite3\n",
    "import pandas as pd\n",
    "from os import path\n",
    "import json"
   ]
  },
  {
   "cell_type": "markdown",
   "id": "a461a169-1cec-4ed4-bd4d-90e70e894d56",
   "metadata": {},
   "source": [
    "## Download bigslice query from azure"
   ]
  },
  {
   "cell_type": "code",
   "execution_count": 2,
   "id": "4580de0f-b4f7-4114-a4fe-ee193cf8da49",
   "metadata": {},
   "outputs": [],
   "source": [
    "# load credentials\n",
    "with open(\"../secret/blob-key.json\") as f:\n",
    "    az_account = json.load(f)\n",
    "account_name = az_account[\"account_name\"]\n",
    "key = az_account[\"key\"]"
   ]
  },
  {
   "cell_type": "code",
   "execution_count": 3,
   "id": "c917c43d-566f-449f-910d-7c38b2458653",
   "metadata": {},
   "outputs": [
    {
     "name": "stdout",
     "output_type": "stream",
     "text": [
      "Finished[#############################################################]  100.0000%\n"
     ]
    }
   ],
   "source": [
    "# fetch from azure\n",
    "container = \"processed\"\n",
    "item_to_download = \"bigslice/bigslice_query.zip\"\n",
    "target = \"../data/bigslice_query.zip\"\n",
    "! az Storage blob download --account-key {key} --account-name {account_name} \\\n",
    "    --container-name {container} --file {target} --name {item_to_download} \\\n",
    "    > ../data/bigslice_query.log"
   ]
  },
  {
   "cell_type": "code",
   "execution_count": 13,
   "id": "dfb9e338-6bbd-4e1b-9872-3c8e93de5040",
   "metadata": {},
   "outputs": [
    {
     "name": "stdout",
     "output_type": "stream",
     "text": [
      "Archive:  bigslice_query.zip\n"
     ]
    }
   ],
   "source": [
    "# extract data\n",
    "! (cd ../data/ && unzip -f bigslice_query.zip)"
   ]
  },
  {
   "cell_type": "markdown",
   "id": "a6059930-3111-4ec3-8984-d9f2c699b9b7",
   "metadata": {},
   "source": [
    "## Interact with sql db via sqlite3"
   ]
  },
  {
   "cell_type": "code",
   "execution_count": 5,
   "id": "c075249c-6aba-4ff1-94df-6342518dc33e",
   "metadata": {},
   "outputs": [],
   "source": [
    "# initiate connection\n",
    "result_folder = \"../data/full_run_result/\"\n",
    "conn = sqlite3.connect(path.join(result_folder, \"reports/1/data.db\"))"
   ]
  },
  {
   "cell_type": "code",
   "execution_count": 6,
   "id": "eaf53060-2d97-451b-bf5d-c7d715d6f370",
   "metadata": {},
   "outputs": [
    {
     "data": {
      "text/plain": [
       "['schema',\n",
       " 'bgc',\n",
       " 'sqlite_sequence',\n",
       " 'cds',\n",
       " 'bgc_class',\n",
       " 'hsp',\n",
       " 'hsp_alignment',\n",
       " 'hsp_subpfam',\n",
       " 'bgc_features',\n",
       " 'gcf_membership']"
      ]
     },
     "execution_count": 6,
     "metadata": {},
     "output_type": "execute_result"
    }
   ],
   "source": [
    "# get all table name from sql\n",
    "cursor = conn.cursor()\n",
    "cursor.execute(\"SELECT name FROM sqlite_master WHERE type='table';\")\n",
    "sql_table_names = [i[0] for i in cursor.fetchall()]\n",
    "sql_table_names"
   ]
  },
  {
   "cell_type": "code",
   "execution_count": 7,
   "id": "4629b004-869d-45fd-8226-4d5f9b0f9b7c",
   "metadata": {},
   "outputs": [],
   "source": [
    "# convert table to pandas df\n",
    "df_tables = []\n",
    "for t in sql_table_names:\n",
    "    df = pd.read_sql_query(f\"select * from {t};\", conn)\n",
    "    df_tables.append(df)"
   ]
  },
  {
   "cell_type": "markdown",
   "id": "ccabcffa-3b86-4c17-aa09-d7103612cd33",
   "metadata": {},
   "source": [
    "### EDA"
   ]
  },
  {
   "cell_type": "code",
   "execution_count": 39,
   "id": "7bcf6839-75b4-49d4-8d18-4f3cc796c0bf",
   "metadata": {},
   "outputs": [
    {
     "data": {
      "text/html": [
       "<div>\n",
       "<style scoped>\n",
       "    .dataframe tbody tr th:only-of-type {\n",
       "        vertical-align: middle;\n",
       "    }\n",
       "\n",
       "    .dataframe tbody tr th {\n",
       "        vertical-align: top;\n",
       "    }\n",
       "\n",
       "    .dataframe thead th {\n",
       "        text-align: right;\n",
       "    }\n",
       "</style>\n",
       "<table border=\"1\" class=\"dataframe\">\n",
       "  <thead>\n",
       "    <tr style=\"text-align: right;\">\n",
       "      <th></th>\n",
       "      <th>id</th>\n",
       "      <th>name</th>\n",
       "      <th>type</th>\n",
       "      <th>on_contig_edge</th>\n",
       "      <th>length_nt</th>\n",
       "      <th>orig_folder</th>\n",
       "      <th>orig_filename</th>\n",
       "    </tr>\n",
       "  </thead>\n",
       "  <tbody>\n",
       "    <tr>\n",
       "      <th>0</th>\n",
       "      <td>1</td>\n",
       "      <td>data/interim/bigslice/tmp/f__Nitrospiraceae_al...</td>\n",
       "      <td>as6</td>\n",
       "      <td>1</td>\n",
       "      <td>20556</td>\n",
       "      <td>data/interim/bigslice/tmp/f__Nitrospiraceae_al...</td>\n",
       "      <td>VOPV01000005.1.region001.gbk</td>\n",
       "    </tr>\n",
       "  </tbody>\n",
       "</table>\n",
       "</div>"
      ],
      "text/plain": [
       "   id                                               name type  on_contig_edge  \\\n",
       "0   1  data/interim/bigslice/tmp/f__Nitrospiraceae_al...  as6               1   \n",
       "\n",
       "   length_nt                                        orig_folder  \\\n",
       "0      20556  data/interim/bigslice/tmp/f__Nitrospiraceae_al...   \n",
       "\n",
       "                  orig_filename  \n",
       "0  VOPV01000005.1.region001.gbk  "
      ]
     },
     "execution_count": 39,
     "metadata": {},
     "output_type": "execute_result"
    }
   ],
   "source": [
    "# slice 1 example BGCs\n",
    "df_input = df_tables[1]\n",
    "df_input[df_input.id == 1]"
   ]
  },
  {
   "cell_type": "code",
   "execution_count": 40,
   "id": "c5e0e631-385e-416a-8e57-a396e5036ab0",
   "metadata": {},
   "outputs": [
    {
     "data": {
      "text/html": [
       "<div>\n",
       "<style scoped>\n",
       "    .dataframe tbody tr th:only-of-type {\n",
       "        vertical-align: middle;\n",
       "    }\n",
       "\n",
       "    .dataframe tbody tr th {\n",
       "        vertical-align: top;\n",
       "    }\n",
       "\n",
       "    .dataframe thead th {\n",
       "        text-align: right;\n",
       "    }\n",
       "</style>\n",
       "<table border=\"1\" class=\"dataframe\">\n",
       "  <thead>\n",
       "    <tr style=\"text-align: right;\">\n",
       "      <th></th>\n",
       "      <th>gcf_id</th>\n",
       "      <th>bgc_id</th>\n",
       "      <th>membership_value</th>\n",
       "      <th>rank</th>\n",
       "    </tr>\n",
       "  </thead>\n",
       "  <tbody>\n",
       "    <tr>\n",
       "      <th>5470</th>\n",
       "      <td>244878</td>\n",
       "      <td>1</td>\n",
       "      <td>1176</td>\n",
       "      <td>0</td>\n",
       "    </tr>\n",
       "    <tr>\n",
       "      <th>5471</th>\n",
       "      <td>245671</td>\n",
       "      <td>1</td>\n",
       "      <td>1282</td>\n",
       "      <td>1</td>\n",
       "    </tr>\n",
       "    <tr>\n",
       "      <th>5472</th>\n",
       "      <td>247890</td>\n",
       "      <td>1</td>\n",
       "      <td>1328</td>\n",
       "      <td>2</td>\n",
       "    </tr>\n",
       "    <tr>\n",
       "      <th>5473</th>\n",
       "      <td>245936</td>\n",
       "      <td>1</td>\n",
       "      <td>1346</td>\n",
       "      <td>3</td>\n",
       "    </tr>\n",
       "    <tr>\n",
       "      <th>5474</th>\n",
       "      <td>246216</td>\n",
       "      <td>1</td>\n",
       "      <td>1353</td>\n",
       "      <td>4</td>\n",
       "    </tr>\n",
       "    <tr>\n",
       "      <th>5475</th>\n",
       "      <td>245560</td>\n",
       "      <td>1</td>\n",
       "      <td>1362</td>\n",
       "      <td>5</td>\n",
       "    </tr>\n",
       "    <tr>\n",
       "      <th>5476</th>\n",
       "      <td>246221</td>\n",
       "      <td>1</td>\n",
       "      <td>1370</td>\n",
       "      <td>6</td>\n",
       "    </tr>\n",
       "    <tr>\n",
       "      <th>5477</th>\n",
       "      <td>246515</td>\n",
       "      <td>1</td>\n",
       "      <td>1437</td>\n",
       "      <td>7</td>\n",
       "    </tr>\n",
       "    <tr>\n",
       "      <th>5478</th>\n",
       "      <td>245666</td>\n",
       "      <td>1</td>\n",
       "      <td>1449</td>\n",
       "      <td>8</td>\n",
       "    </tr>\n",
       "    <tr>\n",
       "      <th>5479</th>\n",
       "      <td>246695</td>\n",
       "      <td>1</td>\n",
       "      <td>1526</td>\n",
       "      <td>9</td>\n",
       "    </tr>\n",
       "  </tbody>\n",
       "</table>\n",
       "</div>"
      ],
      "text/plain": [
       "      gcf_id  bgc_id  membership_value  rank\n",
       "5470  244878       1              1176     0\n",
       "5471  245671       1              1282     1\n",
       "5472  247890       1              1328     2\n",
       "5473  245936       1              1346     3\n",
       "5474  246216       1              1353     4\n",
       "5475  245560       1              1362     5\n",
       "5476  246221       1              1370     6\n",
       "5477  246515       1              1437     7\n",
       "5478  245666       1              1449     8\n",
       "5479  246695       1              1526     9"
      ]
     },
     "execution_count": 40,
     "metadata": {},
     "output_type": "execute_result"
    }
   ],
   "source": [
    "# see 10 top hits to BGCs\n",
    "df_gcf = df_tables[9]\n",
    "df_gcf[df_gcf.bgc_id == 1]"
   ]
  }
 ],
 "metadata": {
  "kernelspec": {
   "display_name": "Python 3 (ipykernel)",
   "language": "python",
   "name": "python3"
  },
  "language_info": {
   "codemirror_mode": {
    "name": "ipython",
    "version": 3
   },
   "file_extension": ".py",
   "mimetype": "text/x-python",
   "name": "python",
   "nbconvert_exporter": "python",
   "pygments_lexer": "ipython3",
   "version": "3.10.1"
  }
 },
 "nbformat": 4,
 "nbformat_minor": 5
}
